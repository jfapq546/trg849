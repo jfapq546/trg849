{
 "cells": [
  {
   "cell_type": "markdown",
   "id": "supreme-malpractice",
   "metadata": {},
   "source": [
    "# Hyperelasticity\n",
    "Author: Jørgen S. Dokken and Garth N. Wells\n",
    "\n",
    "This section shows how to solve the hyperelasticity problem for deformation of a beam.\n",
    "\n",
    "We will also show how to create a constant boundary condition for a vector function space.\n",
    "\n",
    "We start by importing DOLFINx and some additional dependencies.\n",
    "Then, we create a slender cantilever consisting of hexahedral elements and create the function space `V` for our unknown."
   ]
  },
  {
   "cell_type": "code",
   "execution_count": 1,
   "id": "optional-cameroon",
   "metadata": {},
   "outputs": [],
   "source": [
    "import numpy as np\n",
    "import ufl\n",
    "\n",
    "from petsc4py import PETSc\n",
    "from mpi4py import MPI\n",
    "from dolfinx import fem\n",
    "from dolfinx.mesh import CellType, MeshTags, create_box, locate_entities_boundary\n",
    "L = 20.0\n",
    "mesh = create_box(MPI.COMM_WORLD,[[0.0,0.0,0.0], [L, 1, 1]], [20, 5, 5], CellType.hexahedron)\n",
    "V = fem.VectorFunctionSpace(mesh, (\"CG\", 2))"
   ]
  },
  {
   "cell_type": "markdown",
   "id": "streaming-neutral",
   "metadata": {},
   "source": [
    "We create two python functions for determining the facets to apply boundary conditions to"
   ]
  },
  {
   "cell_type": "code",
   "execution_count": 2,
   "id": "major-factor",
   "metadata": {},
   "outputs": [],
   "source": [
    "def left(x):\n",
    "    return np.isclose(x[0], 0)\n",
    "\n",
    "def right(x):\n",
    "    return np.isclose(x[0], L)\n",
    "\n",
    "left_facets = locate_entities_boundary(mesh, mesh.topology.dim - 1, left)\n",
    "right_facets = locate_entities_boundary(mesh, mesh.topology.dim - 1, right)"
   ]
  },
  {
   "cell_type": "markdown",
   "id": "figured-world",
   "metadata": {},
   "source": [
    "Next, we create a  marker based on these two functions"
   ]
  },
  {
   "cell_type": "code",
   "execution_count": 3,
   "id": "dated-india",
   "metadata": {},
   "outputs": [],
   "source": [
    "# Concatenate and sort the arrays based on facet indices. Left facets marked with 1, right facets with two\n",
    "marked_facets = np.hstack([left_facets, right_facets])\n",
    "marked_values = np.hstack([np.full(len(left_facets), 1, dtype=np.int32), np.full(len(right_facets), 2, dtype=np.int32)])\n",
    "sorted_facets = np.argsort(marked_facets)\n",
    "facet_tag = MeshTags(mesh, mesh.topology.dim-1, marked_facets[sorted_facets], marked_values[sorted_facets])"
   ]
  },
  {
   "cell_type": "markdown",
   "id": "renewable-glossary",
   "metadata": {},
   "source": [
    "We then create a function for supplying the boundary condition on the left side, which is fixed."
   ]
  },
  {
   "cell_type": "code",
   "execution_count": 4,
   "id": "confidential-french",
   "metadata": {},
   "outputs": [],
   "source": [
    "u_bc = np.array((0,) * mesh.geometry.dim, dtype=PETSc.ScalarType)"
   ]
  },
  {
   "cell_type": "markdown",
   "id": "musical-documentation",
   "metadata": {},
   "source": [
    "To apply the boundary condition, we identity the dofs located on the facets marked by the `MeshTag`."
   ]
  },
  {
   "cell_type": "code",
   "execution_count": 5,
   "id": "written-monster",
   "metadata": {},
   "outputs": [],
   "source": [
    "left_dofs = fem.locate_dofs_topological(V, facet_tag.dim, facet_tag.indices[facet_tag.values==1])\n",
    "bcs = [fem.dirichletbc(u_bc, left_dofs, V)]"
   ]
  },
  {
   "cell_type": "markdown",
   "id": "indoor-chester",
   "metadata": {},
   "source": [
    "Next, we define the body force on the reference configuration (`B`), and nominal (first Piola-Kirchhoff) traction (`T`). "
   ]
  },
  {
   "cell_type": "code",
   "execution_count": 6,
   "id": "korean-carol",
   "metadata": {},
   "outputs": [],
   "source": [
    "B = fem.Constant(mesh, PETSc.ScalarType((0, 0, 0)))\n",
    "T = fem.Constant(mesh, PETSc.ScalarType((0, 0, 0)))"
   ]
  },
  {
   "cell_type": "markdown",
   "id": "blond-dynamics",
   "metadata": {},
   "source": [
    "Define the test and solution functions on the space $V$"
   ]
  },
  {
   "cell_type": "code",
   "execution_count": 7,
   "id": "vocational-experiment",
   "metadata": {},
   "outputs": [],
   "source": [
    "v = ufl.TestFunction(V)\n",
    "u = fem.Function(V)"
   ]
  },
  {
   "cell_type": "markdown",
   "id": "bright-belle",
   "metadata": {},
   "source": [
    "Define kinematic quantities used in the problem"
   ]
  },
  {
   "cell_type": "code",
   "execution_count": 8,
   "id": "vertical-original",
   "metadata": {},
   "outputs": [],
   "source": [
    "# Spatial dimension\n",
    "d = len(u)\n",
    "\n",
    "# Identity tensor\n",
    "I = ufl.variable(ufl.Identity(d))\n",
    "\n",
    "# Deformation gradient\n",
    "F = ufl.variable(I + ufl.grad(u))\n",
    "\n",
    "# Right Cauchy-Green tensor\n",
    "C = ufl.variable(F.T * F)\n",
    "\n",
    "# Invariants of deformation tensors\n",
    "Ic = ufl.variable(ufl.tr(C))\n",
    "J  = ufl.variable(ufl.det(F))"
   ]
  },
  {
   "cell_type": "markdown",
   "id": "respiratory-compromise",
   "metadata": {},
   "source": [
    "Define the elasticity model via a stored strain energy density function $\\psi$, and create the expression for the first Piola-Kirchhoff stress:"
   ]
  },
  {
   "cell_type": "code",
   "execution_count": 9,
   "id": "incorrect-hello",
   "metadata": {},
   "outputs": [],
   "source": [
    "# Elasticity parameters\n",
    "E = PETSc.ScalarType(1.0e4)\n",
    "nu = PETSc.ScalarType(0.3)\n",
    "mu = fem.Constant(mesh, E/(2*(1 + nu)))\n",
    "lmbda = fem.Constant(mesh, E*nu/((1 + nu)*(1 - 2*nu)))\n",
    "# Stored strain energy density (compressible neo-Hookean model)\n",
    "psi = (mu / 2) * (Ic - 3) - mu * ufl.ln(J) + (lmbda / 2) * (ufl.ln(J))**2\n",
    "# Stress\n",
    "# Hyper-elasticity\n",
    "P = ufl.diff(psi, F)"
   ]
  },
  {
   "cell_type": "markdown",
   "id": "grateful-battlefield",
   "metadata": {},
   "source": [
    "```{admonition} Comparison to linear elasticity\n",
    "To illustrate the difference between linear and hyperelasticity, the following lines can be uncommented to solve the linear elasticity problem.\n",
    "```"
   ]
  },
  {
   "cell_type": "code",
   "execution_count": 10,
   "id": "imperial-jurisdiction",
   "metadata": {},
   "outputs": [],
   "source": [
    "# P = 2.0 * mu * ufl.sym(ufl.grad(u)) + lmbda * ufl.tr(ufl.sym(ufl.grad(u))) * I"
   ]
  },
  {
   "cell_type": "markdown",
   "id": "alleged-genesis",
   "metadata": {},
   "source": [
    "Define the variational form with traction integral over all facets with value 2. We set the quadrature degree for the integrals to 4."
   ]
  },
  {
   "cell_type": "code",
   "execution_count": 11,
   "id": "recognized-conclusion",
   "metadata": {},
   "outputs": [],
   "source": [
    "metadata = {\"quadrature_degree\": 4}\n",
    "ds = ufl.Measure('ds', subdomain_data=facet_tag, metadata=metadata)\n",
    "dx = ufl.Measure(\"dx\", metadata=metadata)\n",
    "# Define form F (we want to find u such that F(u) = 0)\n",
    "F = ufl.inner(ufl.grad(v), P)*dx - ufl.inner(v, B)*dx - ufl.inner(v, T)*ds(2) "
   ]
  },
  {
   "cell_type": "markdown",
   "id": "historic-sherman",
   "metadata": {},
   "source": [
    "As the varitional form is non-linear and written on residual form, we use the non-linear problem class from DOLFINx to set up required structures to use a Newton solver."
   ]
  },
  {
   "cell_type": "code",
   "execution_count": 12,
   "id": "threatened-devices",
   "metadata": {},
   "outputs": [],
   "source": [
    "problem = fem.NonlinearProblem(F, u, bcs)"
   ]
  },
  {
   "cell_type": "markdown",
   "id": "qualified-phrase",
   "metadata": {},
   "source": [
    "and then create and customize the Newton solver"
   ]
  },
  {
   "cell_type": "code",
   "execution_count": 13,
   "id": "special-globe",
   "metadata": {},
   "outputs": [],
   "source": [
    "from dolfinx.nls import NewtonSolver\n",
    "solver = NewtonSolver(MPI.COMM_WORLD, problem)\n",
    "\n",
    "# Set Newton solver options\n",
    "solver.atol = 1e-8\n",
    "solver.rtol = 1e-8\n",
    "solver.convergence_criterion = \"incremental\""
   ]
  },
  {
   "cell_type": "markdown",
   "id": "marked-hungary",
   "metadata": {},
   "source": [
    "We create a function to plot the solution at each time step."
   ]
  },
  {
   "cell_type": "code",
   "execution_count": 16,
   "id": "noble-perception",
   "metadata": {},
   "outputs": [
    {
     "name": "stderr",
     "output_type": "stream",
     "text": [
      "WARNING:py.warnings:/usr/local/lib/python3.9/dist-packages/dolfinx/plot.py:104: UserWarning: Plotting of higher order functions is experimental.\n",
      "  warnings.warn(\"Plotting of higher order functions is experimental.\")\n",
      "\n"
     ]
    },
    {
     "data": {
      "application/vnd.jupyter.widget-view+json": {
       "model_id": "5ea64edb4c6b4652a659996ae080f81b",
       "version_major": 2,
       "version_minor": 0
      },
      "text/plain": [
       "AppLayout(children=(VBox(children=(HTML(value='<h3>u(0)</h3>'), Dropdown(description='Colormap:', options={'Br…"
      ]
     },
     "metadata": {},
     "output_type": "display_data"
    }
   ],
   "source": [
    "import pyvista\n",
    "pyvista.set_jupyter_backend(\"ipygany\")\n",
    "\n",
    "from dolfinx.plot import create_vtk_mesh\n",
    "grid = pyvista.UnstructuredGrid(*create_vtk_mesh(mesh, mesh.topology.dim))\n",
    "\n",
    "def plot_function(t, uh):\n",
    "    \"\"\"\n",
    "    Create a figure of the concentration uh warped visualized in 3D at timet step t.\n",
    "    \"\"\"\n",
    "    p = pyvista.Plotter()\n",
    "    # Create grid defined by the function space for visualization of the function\n",
    "    topology, cells, geometry = create_vtk_mesh(uh.function_space)\n",
    "    function_grid = pyvista.UnstructuredGrid(topology, cells, geometry)\n",
    "    var_name = f\"u({t})\"\n",
    "    values = np.zeros((geometry.shape[0], 3))\n",
    "    values[:, :len(uh)] = uh.x.array.reshape(geometry.shape[0], len(uh))\n",
    "    function_grid[var_name] = values\n",
    "    function_grid.set_active_vectors(var_name)\n",
    "    # Warp mesh by deformation\n",
    "    warped = function_grid.warp_by_vector(var_name, factor=1)\n",
    "    \n",
    "    # Add mesh to plotter and visualize\n",
    "    actor = p.add_mesh(warped)\n",
    "    p.show_axes()\n",
    "    if not pyvista.OFF_SCREEN:\n",
    "       p.show()\n",
    "    else:\n",
    "        pyvista.start_xvfb()\n",
    "        figure_as_array = p.screenshot(f\"diffusion_{t:.2f}.png\")\n",
    "        # Clear plotter for next plot\n",
    "        p.remove_actor(actor)\n",
    "\n",
    "plot_function(0, u)"
   ]
  },
  {
   "cell_type": "markdown",
   "id": "nasty-entertainment",
   "metadata": {},
   "source": [
    "Finally, we solve the problem over several time steps, updating the y-component of the traction"
   ]
  },
  {
   "cell_type": "code",
   "execution_count": 17,
   "id": "vanilla-referral",
   "metadata": {},
   "outputs": [
    {
     "name": "stderr",
     "output_type": "stream",
     "text": [
      "2022-01-20 22:09:47.988 ( 280.774s) [main            ]              petsc.cpp:769   INFO| PETSc Krylov solver starting to solve system.\n",
      "2022-01-20 22:09:48.829 ( 281.615s) [main            ]              petsc.cpp:769   INFO| PETSc Krylov solver starting to solve system.\n",
      "2022-01-20 22:09:49.291 ( 282.077s) [main            ]       NewtonSolver.cpp:34    INFO| Newton iteration 2: r (abs) = 22.2455 (tol = 1e-08) r (rel) = 0.134278(tol = 1e-08)\n",
      "2022-01-20 22:09:49.508 ( 282.294s) [main            ]              petsc.cpp:769   INFO| PETSc Krylov solver starting to solve system.\n",
      "2022-01-20 22:09:49.968 ( 282.753s) [main            ]       NewtonSolver.cpp:34    INFO| Newton iteration 3: r (abs) = 2.43261 (tol = 1e-08) r (rel) = 0.0146837(tol = 1e-08)\n",
      "2022-01-20 22:09:50.188 ( 282.974s) [main            ]              petsc.cpp:769   INFO| PETSc Krylov solver starting to solve system.\n",
      "2022-01-20 22:09:50.648 ( 283.434s) [main            ]       NewtonSolver.cpp:34    INFO| Newton iteration 4: r (abs) = 4.43158 (tol = 1e-08) r (rel) = 0.0267498(tol = 1e-08)\n",
      "2022-01-20 22:09:50.864 ( 283.650s) [main            ]              petsc.cpp:769   INFO| PETSc Krylov solver starting to solve system.\n",
      "2022-01-20 22:09:51.323 ( 284.109s) [main            ]       NewtonSolver.cpp:34    INFO| Newton iteration 5: r (abs) = 0.144189 (tol = 1e-08) r (rel) = 0.000870353(tol = 1e-08)\n",
      "2022-01-20 22:09:51.539 ( 284.325s) [main            ]              petsc.cpp:769   INFO| PETSc Krylov solver starting to solve system.\n",
      "2022-01-20 22:09:52.003 ( 284.789s) [main            ]       NewtonSolver.cpp:34    INFO| Newton iteration 6: r (abs) = 0.021424 (tol = 1e-08) r (rel) = 0.000129319(tol = 1e-08)\n",
      "2022-01-20 22:09:52.229 ( 285.014s) [main            ]              petsc.cpp:769   INFO| PETSc Krylov solver starting to solve system.\n",
      "2022-01-20 22:09:52.688 ( 285.474s) [main            ]       NewtonSolver.cpp:34    INFO| Newton iteration 7: r (abs) = 4.80068e-06 (tol = 1e-08) r (rel) = 2.89778e-08(tol = 1e-08)\n",
      "2022-01-20 22:09:52.899 ( 285.684s) [main            ]              petsc.cpp:769   INFO| PETSc Krylov solver starting to solve system.\n",
      "WARNING:py.warnings:/usr/local/lib/python3.9/dist-packages/dolfinx/plot.py:104: UserWarning: Plotting of higher order functions is experimental.\n",
      "  warnings.warn(\"Plotting of higher order functions is experimental.\")\n",
      "\n"
     ]
    },
    {
     "name": "stdout",
     "output_type": "stream",
     "text": [
      "Time step 1, Number of iterations 8, Load [ 0.   0.  -1.5]\n"
     ]
    },
    {
     "name": "stderr",
     "output_type": "stream",
     "text": [
      "2022-01-20 22:09:53.379 ( 286.165s) [main            ]       NewtonSolver.cpp:34    INFO| Newton iteration 8: r (abs) = 2.62988e-11 (tol = 1e-08) r (rel) = 1.58745e-13(tol = 1e-08)\n",
      "2022-01-20 22:09:53.379 ( 286.165s) [main            ]       NewtonSolver.cpp:250   INFO| Newton solver finished in 8 iterations and 8 linear solver iterations.\n"
     ]
    },
    {
     "data": {
      "application/vnd.jupyter.widget-view+json": {
       "model_id": "7243c376df964525896c71fc5720ac59",
       "version_major": 2,
       "version_minor": 0
      },
      "text/plain": [
       "AppLayout(children=(VBox(children=(HTML(value='<h3>u(1)</h3>'), Dropdown(description='Colormap:', options={'Br…"
      ]
     },
     "metadata": {},
     "output_type": "display_data"
    },
    {
     "name": "stderr",
     "output_type": "stream",
     "text": [
      "2022-01-20 22:09:53.669 ( 286.455s) [main            ]              petsc.cpp:769   INFO| PETSc Krylov solver starting to solve system.\n",
      "2022-01-20 22:09:54.344 ( 287.130s) [main            ]              petsc.cpp:769   INFO| PETSc Krylov solver starting to solve system.\n",
      "2022-01-20 22:09:54.803 ( 287.589s) [main            ]       NewtonSolver.cpp:34    INFO| Newton iteration 2: r (abs) = 17.3254 (tol = 1e-08) r (rel) = 0.117842(tol = 1e-08)\n",
      "2022-01-20 22:09:55.020 ( 287.806s) [main            ]              petsc.cpp:769   INFO| PETSc Krylov solver starting to solve system.\n",
      "2022-01-20 22:09:55.481 ( 288.267s) [main            ]       NewtonSolver.cpp:34    INFO| Newton iteration 3: r (abs) = 5.14882 (tol = 1e-08) r (rel) = 0.0350207(tol = 1e-08)\n",
      "2022-01-20 22:09:55.704 ( 288.489s) [main            ]              petsc.cpp:769   INFO| PETSc Krylov solver starting to solve system.\n",
      "2022-01-20 22:09:56.179 ( 288.964s) [main            ]       NewtonSolver.cpp:34    INFO| Newton iteration 4: r (abs) = 7.24003 (tol = 1e-08) r (rel) = 0.0492445(tol = 1e-08)\n",
      "2022-01-20 22:09:56.391 ( 289.177s) [main            ]              petsc.cpp:769   INFO| PETSc Krylov solver starting to solve system.\n",
      "2022-01-20 22:09:56.888 ( 289.674s) [main            ]       NewtonSolver.cpp:34    INFO| Newton iteration 5: r (abs) = 0.777889 (tol = 1e-08) r (rel) = 0.00529096(tol = 1e-08)\n",
      "2022-01-20 22:09:57.115 ( 289.901s) [main            ]              petsc.cpp:769   INFO| PETSc Krylov solver starting to solve system.\n",
      "2022-01-20 22:09:57.621 ( 290.407s) [main            ]       NewtonSolver.cpp:34    INFO| Newton iteration 6: r (abs) = 1.25525 (tol = 1e-08) r (rel) = 0.00853785(tol = 1e-08)\n",
      "2022-01-20 22:09:57.847 ( 290.632s) [main            ]              petsc.cpp:769   INFO| PETSc Krylov solver starting to solve system.\n"
     ]
    },
    {
     "name": "stdout",
     "output_type": "stream",
     "text": [
      "Time step 2, Number of iterations 9, Load [ 0.  0. -3.]\n"
     ]
    },
    {
     "name": "stderr",
     "output_type": "stream",
     "text": [
      "2022-01-20 22:09:58.341 ( 291.127s) [main            ]       NewtonSolver.cpp:34    INFO| Newton iteration 7: r (abs) = 0.00849512 (tol = 1e-08) r (rel) = 5.77813e-05(tol = 1e-08)\n",
      "2022-01-20 22:09:58.569 ( 291.355s) [main            ]              petsc.cpp:769   INFO| PETSc Krylov solver starting to solve system.\n",
      "2022-01-20 22:09:59.066 ( 291.852s) [main            ]       NewtonSolver.cpp:34    INFO| Newton iteration 8: r (abs) = 0.000192107 (tol = 1e-08) r (rel) = 1.30665e-06(tol = 1e-08)\n",
      "2022-01-20 22:09:59.293 ( 292.079s) [main            ]              petsc.cpp:769   INFO| PETSc Krylov solver starting to solve system.\n",
      "2022-01-20 22:09:59.795 ( 292.580s) [main            ]       NewtonSolver.cpp:34    INFO| Newton iteration 9: r (abs) = 1.70417e-10 (tol = 1e-08) r (rel) = 1.15913e-12(tol = 1e-08)\n",
      "2022-01-20 22:09:59.795 ( 292.580s) [main            ]       NewtonSolver.cpp:250   INFO| Newton solver finished in 9 iterations and 9 linear solver iterations.\n"
     ]
    },
    {
     "data": {
      "application/vnd.jupyter.widget-view+json": {
       "model_id": "3c8e2930f6f4435895a0b5c4935ef103",
       "version_major": 2,
       "version_minor": 0
      },
      "text/plain": [
       "AppLayout(children=(VBox(children=(HTML(value='<h3>u(2)</h3>'), Dropdown(description='Colormap:', options={'Br…"
      ]
     },
     "metadata": {},
     "output_type": "display_data"
    },
    {
     "name": "stderr",
     "output_type": "stream",
     "text": [
      "2022-01-20 22:10:00.090 ( 292.876s) [main            ]              petsc.cpp:769   INFO| PETSc Krylov solver starting to solve system.\n",
      "2022-01-20 22:10:00.813 ( 293.599s) [main            ]              petsc.cpp:769   INFO| PETSc Krylov solver starting to solve system.\n",
      "2022-01-20 22:10:01.268 ( 294.054s) [main            ]       NewtonSolver.cpp:34    INFO| Newton iteration 2: r (abs) = 10.0011 (tol = 1e-08) r (rel) = 0.0887471(tol = 1e-08)\n",
      "2022-01-20 22:10:01.478 ( 294.264s) [main            ]              petsc.cpp:769   INFO| PETSc Krylov solver starting to solve system.\n",
      "2022-01-20 22:10:01.943 ( 294.729s) [main            ]       NewtonSolver.cpp:34    INFO| Newton iteration 3: r (abs) = 5.33026 (tol = 1e-08) r (rel) = 0.0472992(tol = 1e-08)\n",
      "2022-01-20 22:10:02.154 ( 294.940s) [main            ]              petsc.cpp:769   INFO| PETSc Krylov solver starting to solve system.\n",
      "2022-01-20 22:10:02.623 ( 295.409s) [main            ]       NewtonSolver.cpp:34    INFO| Newton iteration 4: r (abs) = 11.9901 (tol = 1e-08) r (rel) = 0.106397(tol = 1e-08)\n",
      "2022-01-20 22:10:02.832 ( 295.617s) [main            ]              petsc.cpp:769   INFO| PETSc Krylov solver starting to solve system.\n",
      "2022-01-20 22:10:03.298 ( 296.083s) [main            ]       NewtonSolver.cpp:34    INFO| Newton iteration 5: r (abs) = 2.29702 (tol = 1e-08) r (rel) = 0.0203831(tol = 1e-08)\n",
      "2022-01-20 22:10:03.515 ( 296.301s) [main            ]              petsc.cpp:769   INFO| PETSc Krylov solver starting to solve system.\n",
      "2022-01-20 22:10:03.979 ( 296.765s) [main            ]       NewtonSolver.cpp:34    INFO| Newton iteration 6: r (abs) = 3.90234 (tol = 1e-08) r (rel) = 0.0346282(tol = 1e-08)\n",
      "2022-01-20 22:10:04.191 ( 296.977s) [main            ]              petsc.cpp:769   INFO| PETSc Krylov solver starting to solve system.\n",
      "2022-01-20 22:10:04.645 ( 297.430s) [main            ]       NewtonSolver.cpp:34    INFO| Newton iteration 7: r (abs) = 0.236535 (tol = 1e-08) r (rel) = 0.00209895(tol = 1e-08)\n",
      "2022-01-20 22:10:04.858 ( 297.644s) [main            ]              petsc.cpp:769   INFO| PETSc Krylov solver starting to solve system.\n",
      "2022-01-20 22:10:05.318 ( 298.104s) [main            ]       NewtonSolver.cpp:34    INFO| Newton iteration 8: r (abs) = 0.0427142 (tol = 1e-08) r (rel) = 0.000379034(tol = 1e-08)\n",
      "2022-01-20 22:10:05.527 ( 298.312s) [main            ]              petsc.cpp:769   INFO| PETSc Krylov solver starting to solve system.\n"
     ]
    },
    {
     "name": "stdout",
     "output_type": "stream",
     "text": [
      "Time step 3, Number of iterations 10, Load [ 0.   0.  -4.5]\n"
     ]
    },
    {
     "name": "stderr",
     "output_type": "stream",
     "text": [
      "2022-01-20 22:10:06.008 ( 298.794s) [main            ]       NewtonSolver.cpp:34    INFO| Newton iteration 9: r (abs) = 2.87798e-05 (tol = 1e-08) r (rel) = 2.55384e-07(tol = 1e-08)\n",
      "2022-01-20 22:10:06.229 ( 299.015s) [main            ]              petsc.cpp:769   INFO| PETSc Krylov solver starting to solve system.\n",
      "2022-01-20 22:10:06.687 ( 299.473s) [main            ]       NewtonSolver.cpp:34    INFO| Newton iteration 10: r (abs) = 6.0895e-10 (tol = 1e-08) r (rel) = 5.40365e-12(tol = 1e-08)\n",
      "2022-01-20 22:10:06.687 ( 299.473s) [main            ]       NewtonSolver.cpp:250   INFO| Newton solver finished in 10 iterations and 10 linear solver iterations.\n"
     ]
    },
    {
     "data": {
      "application/vnd.jupyter.widget-view+json": {
       "model_id": "a0912c108b4a42a595ad8e7619b53984",
       "version_major": 2,
       "version_minor": 0
      },
      "text/plain": [
       "AppLayout(children=(VBox(children=(HTML(value='<h3>u(3)</h3>'), Dropdown(description='Colormap:', options={'Br…"
      ]
     },
     "metadata": {},
     "output_type": "display_data"
    },
    {
     "name": "stderr",
     "output_type": "stream",
     "text": [
      "2022-01-20 22:10:06.973 ( 299.759s) [main            ]              petsc.cpp:769   INFO| PETSc Krylov solver starting to solve system.\n",
      "2022-01-20 22:10:07.659 ( 300.445s) [main            ]              petsc.cpp:769   INFO| PETSc Krylov solver starting to solve system.\n",
      "2022-01-20 22:10:08.104 ( 300.890s) [main            ]       NewtonSolver.cpp:34    INFO| Newton iteration 2: r (abs) = 5.50693 (tol = 1e-08) r (rel) = 0.0653918(tol = 1e-08)\n",
      "2022-01-20 22:10:08.308 ( 301.093s) [main            ]              petsc.cpp:769   INFO| PETSc Krylov solver starting to solve system.\n",
      "2022-01-20 22:10:08.767 ( 301.553s) [main            ]       NewtonSolver.cpp:34    INFO| Newton iteration 3: r (abs) = 26.2489 (tol = 1e-08) r (rel) = 0.311692(tol = 1e-08)\n",
      "2022-01-20 22:10:08.980 ( 301.766s) [main            ]              petsc.cpp:769   INFO| PETSc Krylov solver starting to solve system.\n",
      "2022-01-20 22:10:09.443 ( 302.229s) [main            ]       NewtonSolver.cpp:34    INFO| Newton iteration 4: r (abs) = 2.30927 (tol = 1e-08) r (rel) = 0.0274213(tol = 1e-08)\n",
      "2022-01-20 22:10:09.661 ( 302.447s) [main            ]              petsc.cpp:769   INFO| PETSc Krylov solver starting to solve system.\n",
      "2022-01-20 22:10:10.173 ( 302.959s) [main            ]       NewtonSolver.cpp:34    INFO| Newton iteration 5: r (abs) = 14.0562 (tol = 1e-08) r (rel) = 0.16691(tol = 1e-08)\n",
      "2022-01-20 22:10:10.387 ( 303.172s) [main            ]              petsc.cpp:769   INFO| PETSc Krylov solver starting to solve system.\n",
      "2022-01-20 22:10:10.872 ( 303.658s) [main            ]       NewtonSolver.cpp:34    INFO| Newton iteration 6: r (abs) = 0.222774 (tol = 1e-08) r (rel) = 0.00264532(tol = 1e-08)\n",
      "2022-01-20 22:10:11.084 ( 303.870s) [main            ]              petsc.cpp:769   INFO| PETSc Krylov solver starting to solve system.\n"
     ]
    },
    {
     "name": "stdout",
     "output_type": "stream",
     "text": [
      "Time step 4, Number of iterations 9, Load [ 0.  0. -6.]\n"
     ]
    },
    {
     "name": "stderr",
     "output_type": "stream",
     "text": [
      "2022-01-20 22:10:11.561 ( 304.347s) [main            ]       NewtonSolver.cpp:34    INFO| Newton iteration 7: r (abs) = 0.286671 (tol = 1e-08) r (rel) = 0.00340406(tol = 1e-08)\n",
      "2022-01-20 22:10:11.771 ( 304.557s) [main            ]              petsc.cpp:769   INFO| PETSc Krylov solver starting to solve system.\n",
      "2022-01-20 22:10:12.247 ( 305.033s) [main            ]       NewtonSolver.cpp:34    INFO| Newton iteration 8: r (abs) = 0.000321869 (tol = 1e-08) r (rel) = 3.82203e-06(tol = 1e-08)\n",
      "2022-01-20 22:10:12.465 ( 305.251s) [main            ]              petsc.cpp:769   INFO| PETSc Krylov solver starting to solve system.\n",
      "2022-01-20 22:10:12.941 ( 305.726s) [main            ]       NewtonSolver.cpp:34    INFO| Newton iteration 9: r (abs) = 2.63797e-07 (tol = 1e-08) r (rel) = 3.13245e-09(tol = 1e-08)\n",
      "2022-01-20 22:10:12.941 ( 305.726s) [main            ]       NewtonSolver.cpp:250   INFO| Newton solver finished in 9 iterations and 9 linear solver iterations.\n"
     ]
    },
    {
     "data": {
      "application/vnd.jupyter.widget-view+json": {
       "model_id": "e1e12954515e481daee3b63f8b214517",
       "version_major": 2,
       "version_minor": 0
      },
      "text/plain": [
       "AppLayout(children=(VBox(children=(HTML(value='<h3>u(4)</h3>'), Dropdown(description='Colormap:', options={'Br…"
      ]
     },
     "metadata": {},
     "output_type": "display_data"
    },
    {
     "name": "stderr",
     "output_type": "stream",
     "text": [
      "2022-01-20 22:10:13.250 ( 306.036s) [main            ]              petsc.cpp:769   INFO| PETSc Krylov solver starting to solve system.\n",
      "2022-01-20 22:10:13.997 ( 306.783s) [main            ]              petsc.cpp:769   INFO| PETSc Krylov solver starting to solve system.\n",
      "2022-01-20 22:10:14.484 ( 307.270s) [main            ]       NewtonSolver.cpp:34    INFO| Newton iteration 2: r (abs) = 3.19462 (tol = 1e-08) r (rel) = 0.0496479(tol = 1e-08)\n",
      "2022-01-20 22:10:14.713 ( 307.499s) [main            ]              petsc.cpp:769   INFO| PETSc Krylov solver starting to solve system.\n",
      "2022-01-20 22:10:15.200 ( 307.986s) [main            ]       NewtonSolver.cpp:34    INFO| Newton iteration 3: r (abs) = 7.71429 (tol = 1e-08) r (rel) = 0.119888(tol = 1e-08)\n",
      "2022-01-20 22:10:15.419 ( 308.205s) [main            ]              petsc.cpp:769   INFO| PETSc Krylov solver starting to solve system.\n"
     ]
    },
    {
     "name": "stdout",
     "output_type": "stream",
     "text": [
      "Time step 5, Number of iterations 8, Load [ 0.   0.  -7.5]\n"
     ]
    },
    {
     "name": "stderr",
     "output_type": "stream",
     "text": [
      "2022-01-20 22:10:15.915 ( 308.701s) [main            ]       NewtonSolver.cpp:34    INFO| Newton iteration 4: r (abs) = 0.850873 (tol = 1e-08) r (rel) = 0.0132235(tol = 1e-08)\n",
      "2022-01-20 22:10:16.138 ( 308.924s) [main            ]              petsc.cpp:769   INFO| PETSc Krylov solver starting to solve system.\n",
      "2022-01-20 22:10:16.621 ( 309.407s) [main            ]       NewtonSolver.cpp:34    INFO| Newton iteration 5: r (abs) = 0.371434 (tol = 1e-08) r (rel) = 0.0057725(tol = 1e-08)\n",
      "2022-01-20 22:10:16.837 ( 309.623s) [main            ]              petsc.cpp:769   INFO| PETSc Krylov solver starting to solve system.\n",
      "2022-01-20 22:10:17.322 ( 310.108s) [main            ]       NewtonSolver.cpp:34    INFO| Newton iteration 6: r (abs) = 0.00215066 (tol = 1e-08) r (rel) = 3.34236e-05(tol = 1e-08)\n",
      "2022-01-20 22:10:17.549 ( 310.335s) [main            ]              petsc.cpp:769   INFO| PETSc Krylov solver starting to solve system.\n",
      "2022-01-20 22:10:18.036 ( 310.821s) [main            ]       NewtonSolver.cpp:34    INFO| Newton iteration 7: r (abs) = 2.54607e-06 (tol = 1e-08) r (rel) = 3.95687e-08(tol = 1e-08)\n",
      "2022-01-20 22:10:18.259 ( 311.045s) [main            ]              petsc.cpp:769   INFO| PETSc Krylov solver starting to solve system.\n",
      "2022-01-20 22:10:18.743 ( 311.529s) [main            ]       NewtonSolver.cpp:34    INFO| Newton iteration 8: r (abs) = 3.33871e-13 (tol = 1e-08) r (rel) = 5.18872e-15(tol = 1e-08)\n",
      "2022-01-20 22:10:18.743 ( 311.529s) [main            ]       NewtonSolver.cpp:250   INFO| Newton solver finished in 8 iterations and 8 linear solver iterations.\n"
     ]
    },
    {
     "data": {
      "application/vnd.jupyter.widget-view+json": {
       "model_id": "4f49f4708cbd4179b3f4b3e7d82f76fa",
       "version_major": 2,
       "version_minor": 0
      },
      "text/plain": [
       "AppLayout(children=(VBox(children=(HTML(value='<h3>u(5)</h3>'), Dropdown(description='Colormap:', options={'Br…"
      ]
     },
     "metadata": {},
     "output_type": "display_data"
    },
    {
     "name": "stderr",
     "output_type": "stream",
     "text": [
      "2022-01-20 22:10:19.053 ( 311.838s) [main            ]              petsc.cpp:769   INFO| PETSc Krylov solver starting to solve system.\n",
      "2022-01-20 22:10:19.761 ( 312.547s) [main            ]              petsc.cpp:769   INFO| PETSc Krylov solver starting to solve system.\n",
      "2022-01-20 22:10:20.249 ( 313.034s) [main            ]       NewtonSolver.cpp:34    INFO| Newton iteration 2: r (abs) = 2.00649 (tol = 1e-08) r (rel) = 0.0395622(tol = 1e-08)\n",
      "2022-01-20 22:10:20.475 ( 313.261s) [main            ]              petsc.cpp:769   INFO| PETSc Krylov solver starting to solve system.\n",
      "2022-01-20 22:10:20.953 ( 313.739s) [main            ]       NewtonSolver.cpp:34    INFO| Newton iteration 3: r (abs) = 4.60977 (tol = 1e-08) r (rel) = 0.0908914(tol = 1e-08)\n",
      "2022-01-20 22:10:21.181 ( 313.967s) [main            ]              petsc.cpp:769   INFO| PETSc Krylov solver starting to solve system.\n",
      "2022-01-20 22:10:21.666 ( 314.452s) [main            ]       NewtonSolver.cpp:34    INFO| Newton iteration 4: r (abs) = 0.185372 (tol = 1e-08) r (rel) = 0.00365501(tol = 1e-08)\n"
     ]
    },
    {
     "name": "stdout",
     "output_type": "stream",
     "text": [
      "Time step 6, Number of iterations 7, Load [ 0.  0. -9.]\n"
     ]
    },
    {
     "name": "stderr",
     "output_type": "stream",
     "text": [
      "2022-01-20 22:10:21.888 ( 314.674s) [main            ]              petsc.cpp:769   INFO| PETSc Krylov solver starting to solve system.\n",
      "2022-01-20 22:10:22.362 ( 315.148s) [main            ]       NewtonSolver.cpp:34    INFO| Newton iteration 5: r (abs) = 0.024688 (tol = 1e-08) r (rel) = 0.000486777(tol = 1e-08)\n",
      "2022-01-20 22:10:22.573 ( 315.359s) [main            ]              petsc.cpp:769   INFO| PETSc Krylov solver starting to solve system.\n",
      "2022-01-20 22:10:23.049 ( 315.835s) [main            ]       NewtonSolver.cpp:34    INFO| Newton iteration 6: r (abs) = 5.69255e-06 (tol = 1e-08) r (rel) = 1.12241e-07(tol = 1e-08)\n",
      "2022-01-20 22:10:23.274 ( 316.060s) [main            ]              petsc.cpp:769   INFO| PETSc Krylov solver starting to solve system.\n",
      "2022-01-20 22:10:23.763 ( 316.549s) [main            ]       NewtonSolver.cpp:34    INFO| Newton iteration 7: r (abs) = 2.58918e-11 (tol = 1e-08) r (rel) = 5.10512e-13(tol = 1e-08)\n",
      "2022-01-20 22:10:23.763 ( 316.549s) [main            ]       NewtonSolver.cpp:250   INFO| Newton solver finished in 7 iterations and 7 linear solver iterations.\n"
     ]
    },
    {
     "data": {
      "application/vnd.jupyter.widget-view+json": {
       "model_id": "3724d87750034970908188c6fb648487",
       "version_major": 2,
       "version_minor": 0
      },
      "text/plain": [
       "AppLayout(children=(VBox(children=(HTML(value='<h3>u(6)</h3>'), Dropdown(description='Colormap:', options={'Br…"
      ]
     },
     "metadata": {},
     "output_type": "display_data"
    },
    {
     "name": "stderr",
     "output_type": "stream",
     "text": [
      "2022-01-20 22:10:24.076 ( 316.862s) [main            ]              petsc.cpp:769   INFO| PETSc Krylov solver starting to solve system.\n",
      "2022-01-20 22:10:24.813 ( 317.599s) [main            ]              petsc.cpp:769   INFO| PETSc Krylov solver starting to solve system.\n",
      "2022-01-20 22:10:25.314 ( 318.100s) [main            ]       NewtonSolver.cpp:34    INFO| Newton iteration 2: r (abs) = 1.38506 (tol = 1e-08) r (rel) = 0.0336622(tol = 1e-08)\n",
      "2022-01-20 22:10:25.550 ( 318.336s) [main            ]              petsc.cpp:769   INFO| PETSc Krylov solver starting to solve system.\n",
      "2022-01-20 22:10:26.084 ( 318.870s) [main            ]       NewtonSolver.cpp:34    INFO| Newton iteration 3: r (abs) = 3.03739 (tol = 1e-08) r (rel) = 0.07382(tol = 1e-08)\n",
      "2022-01-20 22:10:26.316 ( 319.102s) [main            ]              petsc.cpp:769   INFO| PETSc Krylov solver starting to solve system.\n",
      "2022-01-20 22:10:26.800 ( 319.586s) [main            ]       NewtonSolver.cpp:34    INFO| Newton iteration 4: r (abs) = 0.0412386 (tol = 1e-08) r (rel) = 0.00100225(tol = 1e-08)\n",
      "2022-01-20 22:10:27.028 ( 319.814s) [main            ]              petsc.cpp:769   INFO| PETSc Krylov solver starting to solve system.\n"
     ]
    },
    {
     "name": "stdout",
     "output_type": "stream",
     "text": [
      "Time step 7, Number of iterations 6, Load [  0.    0.  -10.5]\n"
     ]
    },
    {
     "name": "stderr",
     "output_type": "stream",
     "text": [
      "2022-01-20 22:10:27.522 ( 320.308s) [main            ]       NewtonSolver.cpp:34    INFO| Newton iteration 5: r (abs) = 0.00205057 (tol = 1e-08) r (rel) = 4.98364e-05(tol = 1e-08)\n",
      "2022-01-20 22:10:27.754 ( 320.540s) [main            ]              petsc.cpp:769   INFO| PETSc Krylov solver starting to solve system.\n",
      "2022-01-20 22:10:28.262 ( 321.048s) [main            ]       NewtonSolver.cpp:34    INFO| Newton iteration 6: r (abs) = 1.78867e-08 (tol = 1e-08) r (rel) = 4.34714e-10(tol = 1e-08)\n",
      "2022-01-20 22:10:28.262 ( 321.048s) [main            ]       NewtonSolver.cpp:250   INFO| Newton solver finished in 6 iterations and 6 linear solver iterations.\n"
     ]
    },
    {
     "data": {
      "application/vnd.jupyter.widget-view+json": {
       "model_id": "d5c53970f5ec4607a59303b4f029aa85",
       "version_major": 2,
       "version_minor": 0
      },
      "text/plain": [
       "AppLayout(children=(VBox(children=(HTML(value='<h3>u(7)</h3>'), Dropdown(description='Colormap:', options={'Br…"
      ]
     },
     "metadata": {},
     "output_type": "display_data"
    },
    {
     "name": "stderr",
     "output_type": "stream",
     "text": [
      "2022-01-20 22:10:28.562 ( 321.348s) [main            ]              petsc.cpp:769   INFO| PETSc Krylov solver starting to solve system.\n",
      "2022-01-20 22:10:29.312 ( 322.098s) [main            ]              petsc.cpp:769   INFO| PETSc Krylov solver starting to solve system.\n",
      "2022-01-20 22:10:29.830 ( 322.616s) [main            ]       NewtonSolver.cpp:34    INFO| Newton iteration 2: r (abs) = 1.06336 (tol = 1e-08) r (rel) = 0.031085(tol = 1e-08)\n",
      "2022-01-20 22:10:30.077 ( 322.863s) [main            ]              petsc.cpp:769   INFO| PETSc Krylov solver starting to solve system.\n",
      "2022-01-20 22:10:30.549 ( 323.335s) [main            ]       NewtonSolver.cpp:34    INFO| Newton iteration 3: r (abs) = 2.0477 (tol = 1e-08) r (rel) = 0.0598598(tol = 1e-08)\n",
      "2022-01-20 22:10:30.794 ( 323.580s) [main            ]              petsc.cpp:769   INFO| PETSc Krylov solver starting to solve system.\n",
      "2022-01-20 22:10:31.293 ( 324.079s) [main            ]       NewtonSolver.cpp:34    INFO| Newton iteration 4: r (abs) = 0.00897719 (tol = 1e-08) r (rel) = 0.000262427(tol = 1e-08)\n",
      "2022-01-20 22:10:31.530 ( 324.316s) [main            ]              petsc.cpp:769   INFO| PETSc Krylov solver starting to solve system.\n"
     ]
    },
    {
     "name": "stdout",
     "output_type": "stream",
     "text": [
      "Time step 8, Number of iterations 6, Load [  0.   0. -12.]\n"
     ]
    },
    {
     "name": "stderr",
     "output_type": "stream",
     "text": [
      "2022-01-20 22:10:32.017 ( 324.803s) [main            ]       NewtonSolver.cpp:34    INFO| Newton iteration 5: r (abs) = 0.000167422 (tol = 1e-08) r (rel) = 4.89419e-06(tol = 1e-08)\n",
      "2022-01-20 22:10:32.249 ( 325.035s) [main            ]              petsc.cpp:769   INFO| PETSc Krylov solver starting to solve system.\n",
      "2022-01-20 22:10:32.747 ( 325.532s) [main            ]       NewtonSolver.cpp:34    INFO| Newton iteration 6: r (abs) = 3.25874e-11 (tol = 1e-08) r (rel) = 9.52617e-13(tol = 1e-08)\n",
      "2022-01-20 22:10:32.747 ( 325.532s) [main            ]       NewtonSolver.cpp:250   INFO| Newton solver finished in 6 iterations and 6 linear solver iterations.\n"
     ]
    },
    {
     "data": {
      "application/vnd.jupyter.widget-view+json": {
       "model_id": "a8b896a5c2314ec3a8522d89acaca26f",
       "version_major": 2,
       "version_minor": 0
      },
      "text/plain": [
       "AppLayout(children=(VBox(children=(HTML(value='<h3>u(8)</h3>'), Dropdown(description='Colormap:', options={'Br…"
      ]
     },
     "metadata": {},
     "output_type": "display_data"
    },
    {
     "name": "stderr",
     "output_type": "stream",
     "text": [
      "2022-01-20 22:10:33.054 ( 325.840s) [main            ]              petsc.cpp:769   INFO| PETSc Krylov solver starting to solve system.\n",
      "2022-01-20 22:10:33.772 ( 326.558s) [main            ]              petsc.cpp:769   INFO| PETSc Krylov solver starting to solve system.\n",
      "2022-01-20 22:10:34.252 ( 327.038s) [main            ]       NewtonSolver.cpp:34    INFO| Newton iteration 2: r (abs) = 0.898789 (tol = 1e-08) r (rel) = 0.0309666(tol = 1e-08)\n",
      "2022-01-20 22:10:34.477 ( 327.263s) [main            ]              petsc.cpp:769   INFO| PETSc Krylov solver starting to solve system.\n",
      "2022-01-20 22:10:34.973 ( 327.759s) [main            ]       NewtonSolver.cpp:34    INFO| Newton iteration 3: r (abs) = 1.38354 (tol = 1e-08) r (rel) = 0.0476679(tol = 1e-08)\n",
      "2022-01-20 22:10:35.200 ( 327.986s) [main            ]              petsc.cpp:769   INFO| PETSc Krylov solver starting to solve system.\n",
      "2022-01-20 22:10:35.692 ( 328.477s) [main            ]       NewtonSolver.cpp:34    INFO| Newton iteration 4: r (abs) = 0.00185096 (tol = 1e-08) r (rel) = 6.37724e-05(tol = 1e-08)\n",
      "2022-01-20 22:10:35.919 ( 328.705s) [main            ]              petsc.cpp:769   INFO| PETSc Krylov solver starting to solve system.\n",
      "2022-01-20 22:10:36.411 ( 329.197s) [main            ]       NewtonSolver.cpp:34    INFO| Newton iteration 5: r (abs) = 7.87183e-06 (tol = 1e-08) r (rel) = 2.71213e-07(tol = 1e-08)\n",
      "2022-01-20 22:10:36.639 ( 329.425s) [main            ]              petsc.cpp:769   INFO| PETSc Krylov solver starting to solve system.\n",
      "2022-01-20 22:10:37.131 ( 329.917s) [main            ]       NewtonSolver.cpp:34    INFO| Newton iteration 6: r (abs) = 7.21799e-13 (tol = 1e-08) r (rel) = 2.48686e-14(tol = 1e-08)\n",
      "2022-01-20 22:10:37.131 ( 329.917s) [main            ]       NewtonSolver.cpp:250   INFO| Newton solver finished in 6 iterations and 6 linear solver iterations.\n"
     ]
    },
    {
     "name": "stdout",
     "output_type": "stream",
     "text": [
      "Time step 9, Number of iterations 6, Load [  0.    0.  -13.5]\n"
     ]
    },
    {
     "data": {
      "application/vnd.jupyter.widget-view+json": {
       "model_id": "f0ed892ecba346cba1f3def02b623de9",
       "version_major": 2,
       "version_minor": 0
      },
      "text/plain": [
       "AppLayout(children=(VBox(children=(HTML(value='<h3>u(9)</h3>'), Dropdown(description='Colormap:', options={'Br…"
      ]
     },
     "metadata": {},
     "output_type": "display_data"
    }
   ],
   "source": [
    "from dolfinx.log import set_log_level, LogLevel\n",
    "set_log_level(LogLevel.INFO)\n",
    "tval0 = -1.5\n",
    "for n in range(1, 10):\n",
    "    T.value[2] = n * tval0\n",
    "    num_its, converged = solver.solve(u)\n",
    "    assert(converged)\n",
    "    u.x.scatter_forward()\n",
    "    print(f\"Time step {n}, Number of iterations {num_its}, Load {T.value}\")\n",
    "    plot_function(n, u)"
   ]
  },
  {
   "cell_type": "code",
   "execution_count": null,
   "id": "eligible-chambers",
   "metadata": {},
   "outputs": [],
   "source": []
  }
 ],
 "metadata": {
  "kernelspec": {
   "display_name": "Python 3 (ipykernel)",
   "language": "python",
   "name": "python3"
  },
  "language_info": {
   "codemirror_mode": {
    "name": "ipython",
    "version": 3
   },
   "file_extension": ".py",
   "mimetype": "text/x-python",
   "name": "python",
   "nbconvert_exporter": "python",
   "pygments_lexer": "ipython3",
   "version": "3.9.7"
  }
 },
 "nbformat": 4,
 "nbformat_minor": 5
}
