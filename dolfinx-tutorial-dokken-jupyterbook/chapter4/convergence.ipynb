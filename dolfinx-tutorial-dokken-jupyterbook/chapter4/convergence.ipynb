{
 "cells": [
  {
   "cell_type": "markdown",
   "metadata": {},
   "source": [
    "# Error control: Computing convergence rates\n",
    "Author: Jørgen S. Dokken, Hans Petter Langtangen, Anders Logg\n",
    "\n",
    "For any numerical method one of the most central questions is its *convergence rate*: How fast does the error go to zero when the resolution is increased (mesh size decreased).\n",
    "\n",
    "For the finite element method, this usually corresponds to proving, theoretically or imperically, that the error $e=u_e-u_h$ is bounded by the mesh size $h$ to some power $r$, that is $\\vert\\vert e \\vert\\vert\\leq Ch^r$ for some mesh independent constant $C$. The number $r$ is called the *convergence rate* of the method. Note that the different norms like the $L^2$-norm $\\vert\\vert e\\vert\\vert$ or the $H_0^1$-norm have different convergence rates."
   ]
  },
  {
   "cell_type": "markdown",
   "metadata": {},
   "source": [
    "## Computing error norms\n",
    "We start by creating a manufactured problem, using the same problem as in [the solver configuration](./solvers.ipynb).\n"
   ]
  },
  {
   "cell_type": "code",
   "execution_count": 1,
   "metadata": {},
   "outputs": [],
   "source": [
    "import ufl\n",
    "import numpy as np\n",
    "from mpi4py import MPI\n",
    "from petsc4py import PETSc\n",
    "from dolfinx.fem import dirichletbc, Function, FunctionSpace, LinearProblem, assemble_scalar, form, locate_dofs_topological\n",
    "from dolfinx.mesh import create_unit_square, locate_entities_boundary\n",
    "from ufl import SpatialCoordinate, TestFunction, TrialFunction, div, dot, dx, grad, inner\n",
    "\n",
    "def u_ex(mod):\n",
    "    return lambda x: mod.cos(2*mod.pi*x[0])*mod.cos(2*mod.pi*x[1])\n",
    "\n",
    "u_numpy = u_ex(np)\n",
    "u_ufl = u_ex(ufl)\n",
    "\n",
    "def solve_poisson(N=10, degree=1):\n",
    "\n",
    "    mesh = create_unit_square(MPI.COMM_WORLD, N, N)\n",
    "    x = SpatialCoordinate(mesh)\n",
    "    f = -div(grad(u_ufl(x)))\n",
    "    V = FunctionSpace(mesh, (\"CG\", degree))\n",
    "    u = TrialFunction(V)\n",
    "    v = TestFunction(V)\n",
    "    a = inner(grad(u), grad(v)) * dx\n",
    "    L = f * v * dx\n",
    "    u_bc = Function(V)\n",
    "    u_bc.interpolate(u_numpy)\n",
    "    facets = locate_entities_boundary(mesh, mesh.topology.dim -1, lambda x: np.full(x.shape[1], True))\n",
    "    dofs = locate_dofs_topological(V, mesh.topology.dim-1, facets)\n",
    "    bcs = [dirichletbc(u_bc, dofs)]\n",
    "    default_problem = LinearProblem(a, L, bcs=bcs, petsc_options={\"ksp_type\": \"preonly\", \"pc_type\": \"lu\"})\n",
    "    return default_problem.solve(), u_ufl(x)"
   ]
  },
  {
   "cell_type": "markdown",
   "metadata": {},
   "source": [
    "Now, we can compute the error between the analyical solution `u_ex=u_ufl(x)` and approximated solution `uh`. A natural choice might seem to compute `(u_ex-uh)**2*ufl.dx`. "
   ]
  },
  {
   "cell_type": "code",
   "execution_count": 2,
   "metadata": {},
   "outputs": [
    {
     "name": "stdout",
     "output_type": "stream",
     "text": [
      "L2-error: 5.28e-02\n"
     ]
    }
   ],
   "source": [
    "uh, u_ex = solve_poisson(10)\n",
    "comm = uh.function_space.mesh.comm\n",
    "error = form((uh - u_ex)**2 * ufl.dx)\n",
    "E = np.sqrt(comm.allreduce(assemble_scalar(error), MPI.SUM))\n",
    "if comm.rank == 0:\n",
    "    print(f\"L2-error: {E:.2e}\")"
   ]
  },
  {
   "cell_type": "markdown",
   "metadata": {},
   "source": [
    "Sometimes it is of interest to compute the error fo the gradient field, $\\vert\\vert \\nabla(u_e-u_h)\\vert\\vert$, often referred to as the $H_0^1$-nrom of the error, this can be expressed as"
   ]
  },
  {
   "cell_type": "code",
   "execution_count": 3,
   "metadata": {},
   "outputs": [
    {
     "name": "stdout",
     "output_type": "stream",
     "text": [
      "H01-error: 1.36e+00\n"
     ]
    }
   ],
   "source": [
    "eh = uh - u_ex\n",
    "error_H10 = form(dot(grad(eh), grad(eh)) * dx)\n",
    "E_H10 = np.sqrt(comm.allreduce(assemble_scalar(error_H10), op=MPI.SUM))\n",
    "if comm.rank == 0:\n",
    "    print(f\"H01-error: {E_H10:.2e}\")"
   ]
  },
  {
   "cell_type": "markdown",
   "metadata": {},
   "source": [
    "### Reliable error norm computation\n",
    "However, as this gets expanded to `u_ex**2 + uh**2 - 2*u_ex*uh`. If the error is small, (and the solution itself is of moderate size), this calculation will correspond to subtract two positive numbers `u_ex**2 + uh**2`$\\sim 1$ and `2*u_ex*u`$\\sim 1$ yielding a small number, prone to round-off errors.\n",
    "\n",
    "To avoid this issue, we interpolate the approximate and exact solution into a higher order function space. Then we subtract the degrees of freedom from the interpolated functions to create a new error function. Then, finally, we assemble/integrate the square difference and take the square root to get the L2 norm."
   ]
  },
  {
   "cell_type": "code",
   "execution_count": 4,
   "metadata": {},
   "outputs": [],
   "source": [
    "from dolfinx.fem import Expression\n",
    "\n",
    "def error_L2(uh, u_ex, degree_raise=3):\n",
    "    # Create higher order function space\n",
    "    degree = uh.function_space.ufl_element().degree()\n",
    "    family = uh.function_space.ufl_element().family()\n",
    "    mesh = uh.function_space.mesh\n",
    "    W = FunctionSpace(mesh, (family, degree+ degree_raise))\n",
    "    # Interpolate approximate solution\n",
    "    u_W = Function(W)\n",
    "    u_W.interpolate(uh)\n",
    "\n",
    "    # Interpolate exact solution, special handling if exact solution\n",
    "    # is a ufl expression or a python lambda function\n",
    "    u_ex_W = Function(W)\n",
    "    if isinstance(u_ex, ufl.core.expr.Expr):\n",
    "        u_expr = Expression(u_ex, W.element.interpolation_points)\n",
    "        u_ex_W.interpolate(u_expr)\n",
    "    else:\n",
    "        u_ex_W.interpolate(u_ex)\n",
    "    \n",
    "    # Compute the error in the higher order function space\n",
    "    e_W = Function(W)\n",
    "    e_W.x.array[:] = u_W.x.array - u_ex_W.x.array\n",
    "    \n",
    "    # Integrate the error\n",
    "    error = form(ufl.inner(e_W, e_W) * ufl.dx)\n",
    "    error_local = assemble_scalar(error)\n",
    "    error_global = mesh.comm.allreduce(error_local, op=MPI.SUM)\n",
    "    return np.sqrt(error_global)"
   ]
  },
  {
   "cell_type": "markdown",
   "metadata": {},
   "source": [
    "## Computing convergence rates\n",
    "Let us consider a sequence of mesh resolutions $h_0>h_1>h_2$, where $h_i=\\frac{1}{N_i}$ we compute the errors for a range of $N_i$s"
   ]
  },
  {
   "cell_type": "code",
   "execution_count": 5,
   "metadata": {},
   "outputs": [
    {
     "name": "stdout",
     "output_type": "stream",
     "text": [
      "h: 2.50e-01 Error: 2.43e-01\n",
      "h: 1.25e-01 Error: 7.96e-02\n",
      "h: 6.25e-02 Error: 2.15e-02\n",
      "h: 3.12e-02 Error: 5.47e-03\n",
      "h: 1.56e-02 Error: 1.37e-03\n"
     ]
    }
   ],
   "source": [
    "Ns = [4, 8, 16, 32, 64]\n",
    "Es = np.zeros(len(Ns), dtype=PETSc.ScalarType)\n",
    "hs = np.zeros(len(Ns), dtype=np.float64)\n",
    "for i, N in enumerate(Ns):\n",
    "    uh, u_ex = solve_poisson(N, degree=1)\n",
    "    comm = uh.function_space.mesh.comm\n",
    "    # One can send in either u_numpy or u_ex\n",
    "    # For L2 error estimations it is reccommended to send in u_numpy\n",
    "    # as no JIT compilation is required\n",
    "    Es[i] = error_L2(uh, u_numpy)\n",
    "    hs[i] = 1./Ns[i]\n",
    "    if comm.rank == 0:\n",
    "        print(f\"h: {hs[i]:.2e} Error: {Es[i]:.2e}\")"
   ]
  },
  {
   "cell_type": "markdown",
   "metadata": {},
   "source": [
    "If we assume that $E_i$ is of the form $E_i=Ch_i^r$, with unknown constants $C$ and $r$, we can compare two consecqutive experiments, $E_{i-1}= Ch_{i-1}^r$ and $E_i=Ch_i^r$, and solve for $r$:\n",
    "```{math}\n",
    "r=\\frac{\\ln(E_i/E_{i-1})}{\\ln(h_i/h_{i-1})}\n",
    "```\n",
    "The $r$ values should approac the expected convergence rate (which is typically the polynomial degree + 1 for the $L^2$-error.) as $i$ increases. This can be written compactly using `numpy`."
   ]
  },
  {
   "cell_type": "code",
   "execution_count": 6,
   "metadata": {},
   "outputs": [
    {
     "name": "stdout",
     "output_type": "stream",
     "text": [
      "Rates: [1.61228695 1.89147568 1.97191247 1.99290382]\n"
     ]
    }
   ],
   "source": [
    "rates = np.log(Es[1:]/Es[:-1])/np.log(hs[1:]/hs[:-1])\n",
    "if comm.rank == 0:\n",
    "    print(f\"Rates: {rates}\")"
   ]
  },
  {
   "cell_type": "markdown",
   "metadata": {},
   "source": [
    "We also do a similar study for different orders of polynomial spaces to verify our previous claim."
   ]
  },
  {
   "cell_type": "code",
   "execution_count": 7,
   "metadata": {},
   "outputs": [
    {
     "name": "stdout",
     "output_type": "stream",
     "text": [
      "h: 2.50e-01 Error: 2.43e-01\n",
      "h: 1.25e-01 Error: 7.96e-02\n",
      "h: 6.25e-02 Error: 2.15e-02\n",
      "h: 3.12e-02 Error: 5.47e-03\n",
      "h: 1.56e-02 Error: 1.37e-03\n",
      "Polynomial degree 1, Rates [1.61228695 1.89147568 1.97191247 1.99290382]\n",
      "h: 2.50e-01 Error: 3.52e-02\n",
      "h: 1.25e-01 Error: 4.39e-03\n",
      "h: 6.25e-02 Error: 5.50e-04\n",
      "h: 3.12e-02 Error: 6.88e-05\n",
      "h: 1.56e-02 Error: 8.60e-06\n",
      "Polynomial degree 2, Rates [3.00109101 2.99828073 2.99822291 2.99930786]\n",
      "h: 2.50e-01 Error: 5.54e-03\n",
      "h: 1.25e-01 Error: 3.35e-04\n",
      "h: 6.25e-02 Error: 1.99e-05\n",
      "h: 3.12e-02 Error: 1.21e-06\n",
      "h: 1.56e-02 Error: 7.49e-08\n",
      "Polynomial degree 3, Rates [4.04795047 4.07357659 4.03728992 4.0164527 ]\n",
      "h: 2.50e-01 Error: 7.20e-04\n",
      "h: 1.25e-01 Error: 2.42e-05\n",
      "h: 6.25e-02 Error: 7.75e-07\n",
      "h: 3.12e-02 Error: 2.44e-08\n",
      "h: 1.56e-02 Error: 7.64e-10\n",
      "Polynomial degree 4, Rates [4.896908   4.96084158 4.98926012 4.99766464]\n"
     ]
    }
   ],
   "source": [
    "degrees = [1, 2, 3, 4]\n",
    "for degree in degrees:\n",
    "    Es = np.zeros(len(Ns), dtype=PETSc.ScalarType)\n",
    "    hs = np.zeros(len(Ns), dtype=np.float64)\n",
    "    for i, N in enumerate(Ns):\n",
    "        uh, u_ex = solve_poisson(N, degree=degree)\n",
    "        comm = uh.function_space.mesh.comm\n",
    "        Es[i] = error_L2(uh, u_numpy, degree_raise=3) \n",
    "        hs[i] = 1. / Ns[i]\n",
    "        if comm.rank == 0:\n",
    "            print(f\"h: {hs[i]:.2e} Error: {Es[i]:.2e}\")\n",
    "    rates = np.log(Es[1:] / Es[:-1]) / np.log(hs[1:] / hs[:-1])\n",
    "    if comm.rank == 0:\n",
    "        print(f\"Polynomial degree {degree:d}, Rates {rates}\")"
   ]
  },
  {
   "cell_type": "markdown",
   "metadata": {},
   "source": [
    "### Infinity norm estimates\n",
    "We start by creating a function to compute the infinity norm, the max difference between the approximate and exact solution."
   ]
  },
  {
   "cell_type": "code",
   "execution_count": 8,
   "metadata": {},
   "outputs": [],
   "source": [
    "def error_infinity(u_h, u_ex):\n",
    "    # Interpolate exact solution, special handling if exact solution\n",
    "    # is a ufl expression or a python lambda function\n",
    "    comm = u_h.function_space.mesh.comm\n",
    "    u_ex_V = Function(u_h.function_space)\n",
    "    if isinstance(u_ex, ufl.core.expr.Expr):\n",
    "        u_expr = Expression(u_ex, u_h.function_space.element.interpolation_points)\n",
    "        u_ex_V.interpolate(u_expr)\n",
    "    else:\n",
    "        u_ex_V.interpolate(u_ex)\n",
    "    # Compute infinity norm, furst local to process, then gather the max\n",
    "    # value over all processes\n",
    "    error_max_local = np.max(np.abs(u_h.x.array-u_ex_V.x.array))\n",
    "    error_max = comm.allreduce(error_max_local, op=MPI.MAX)\n",
    "    return error_max"
   ]
  },
  {
   "cell_type": "markdown",
   "metadata": {},
   "source": [
    "Running this for various polynomial degrees yields:"
   ]
  },
  {
   "cell_type": "code",
   "execution_count": 9,
   "metadata": {},
   "outputs": [
    {
     "name": "stdout",
     "output_type": "stream",
     "text": [
      "h: 2.50e-01 Error: 2.73e-01\n",
      "h: 1.25e-01 Error: 6.96e-02\n",
      "h: 6.25e-02 Error: 1.75e-02\n",
      "h: 3.12e-02 Error: 4.38e-03\n",
      "h: 1.56e-02 Error: 1.10e-03\n",
      "Polynomial degree 1, Rates [1.96828918 1.9917697  1.99791282 1.99947611]\n",
      "h: 2.50e-01 Error: 4.85e-02\n",
      "h: 1.25e-01 Error: 3.65e-03\n",
      "h: 6.25e-02 Error: 2.37e-04\n",
      "h: 3.12e-02 Error: 1.50e-05\n",
      "h: 1.56e-02 Error: 9.38e-07\n",
      "Polynomial degree 2, Rates [3.73213705 3.94227924 3.98612529 3.99656577]\n",
      "h: 2.50e-01 Error: 1.08e-02\n",
      "h: 1.25e-01 Error: 8.13e-04\n",
      "h: 6.25e-02 Error: 5.86e-05\n",
      "h: 3.12e-02 Error: 3.80e-06\n",
      "h: 1.56e-02 Error: 2.41e-07\n",
      "Polynomial degree 3, Rates [3.72903577 3.79406598 3.94800701 3.97888414]\n",
      "h: 2.50e-01 Error: 1.63e-03\n",
      "h: 1.25e-01 Error: 5.23e-05\n",
      "h: 6.25e-02 Error: 1.67e-06\n",
      "h: 3.12e-02 Error: 5.25e-08\n",
      "h: 1.56e-02 Error: 1.64e-09\n",
      "Polynomial degree 4, Rates [4.96133103 4.96807694 4.99161592 4.99787705]\n"
     ]
    }
   ],
   "source": [
    "for degree in degrees:\n",
    "    Es = np.zeros(len(Ns), dtype=PETSc.ScalarType)\n",
    "    hs = np.zeros(len(Ns), dtype=np.float64)\n",
    "    for i, N in enumerate(Ns):\n",
    "        uh, u_ex = solve_poisson(N, degree=degree)\n",
    "        comm = uh.function_space.mesh.comm\n",
    "        Es[i] = error_infinity(uh, u_numpy) \n",
    "        hs[i] = 1. / Ns[i]\n",
    "        if comm.rank == 0:\n",
    "            print(f\"h: {hs[i]:.2e} Error: {Es[i]:.2e}\")\n",
    "    rates = np.log(Es[1:] / Es[:-1]) / np.log(hs[1:] / hs[:-1])\n",
    "    if comm.rank == 0:\n",
    "        print(f\"Polynomial degree {degree:d}, Rates {rates}\")"
   ]
  },
  {
   "cell_type": "markdown",
   "metadata": {},
   "source": [
    "We observe super convergence for second order polynomials, yielding a fourth order convergence."
   ]
  },
  {
   "cell_type": "code",
   "execution_count": null,
   "metadata": {},
   "outputs": [],
   "source": []
  }
 ],
 "metadata": {
  "kernelspec": {
   "display_name": "Python 3 (ipykernel)",
   "language": "python",
   "name": "python3"
  },
  "language_info": {
   "codemirror_mode": {
    "name": "ipython",
    "version": 3
   },
   "file_extension": ".py",
   "mimetype": "text/x-python",
   "name": "python",
   "nbconvert_exporter": "python",
   "pygments_lexer": "ipython3",
   "version": "3.9.7"
  }
 },
 "nbformat": 4,
 "nbformat_minor": 4
}
