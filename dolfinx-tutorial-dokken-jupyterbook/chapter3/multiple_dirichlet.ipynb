{
 "cells": [
  {
   "cell_type": "markdown",
   "metadata": {},
   "source": [
    "# Setting multiple Dirichlet condition\n",
    "\n",
    "In the previous section, we used a single function to $u_d$ to setting Dirichlet conditions on two parts of the boundary. However, it is often more practical to use multiple functins, one for each subdomain of the boundary. We consider a similar example to [the previous example](./neumann_dirichlet_code) and redefine it consist of two Dirichlet boundary conditions\n",
    "\n",
    "$$\n",
    "-\\nabla^2 u =f \\quad \\text{in } \\Omega,\n",
    "$$\n",
    "\n",
    "$$\n",
    "u=u_L \\quad \\text{on } \\Lambda_D^L\n",
    "$$\n",
    "\n",
    "$$\n",
    "u=u_R \\quad \\text{on } \\Lambda_D^R\n",
    "$$\n",
    "\n",
    "$$\n",
    "-\\frac{\\partial u}{\\partial n} = g \\quad \\text{on } \\Lambda_N.\n",
    "$$\n",
    "Here, $\\Lambda_D^L$ is the left boundary $x=0$,  while $\\Lambda_D^R$ is the right boundary $x=1$. \n",
    "We note that $u_L(y)=1+2y^2$, $u_R(y)=2+2y^2$ and $g(y)=-4y$ using the same analytical example as in the previous section.\n",
    "\n",
    "We start by defining the mesh, function space and variational formulation as in the previous exercise"
   ]
  },
  {
   "cell_type": "code",
   "execution_count": 1,
   "metadata": {},
   "outputs": [],
   "source": [
    "import numpy as np\n",
    "\n",
    "from dolfinx.fem import (Constant, dirichletbc, Function, FunctionSpace, LinearProblem, \n",
    "                         assemble_scalar, form, locate_dofs_geometrical)\n",
    "from dolfinx.mesh import create_unit_square\n",
    "from mpi4py import MPI\n",
    "from ufl import SpatialCoordinate, TestFunction, TrialFunction, dot, dx, ds, grad\n",
    "from petsc4py.PETSc import ScalarType\n",
    "\n",
    "def u_exact(x):\n",
    "    return 1 + x[0]**2 + 2*x[1]**2\n",
    "\n",
    "mesh = create_unit_square(MPI.COMM_WORLD, 10, 10)\n",
    "V = FunctionSpace(mesh, (\"CG\", 1))\n",
    "u = TrialFunction(V)\n",
    "v = TestFunction(V)\n",
    "a = dot(grad(u), grad(v))*dx\n",
    "x = SpatialCoordinate(mesh)\n",
    "g = - 4 * x[1]\n",
    "f = Constant(mesh, ScalarType(-6))\n",
    "L = f * v * dx - g * v * ds"
   ]
  },
  {
   "cell_type": "markdown",
   "metadata": {},
   "source": [
    "We next mark the two boundaries separately, starting with the left boundary"
   ]
  },
  {
   "cell_type": "code",
   "execution_count": 2,
   "metadata": {},
   "outputs": [],
   "source": [
    "dofs_L = locate_dofs_geometrical(V, lambda x: np.isclose(x[0], 0))\n",
    "u_L = Function(V)\n",
    "u_L.interpolate(lambda x: 1 + 2*x[1]**2)\n",
    "bc_L = dirichletbc(u_L, dofs_L)"
   ]
  },
  {
   "cell_type": "markdown",
   "metadata": {},
   "source": [
    "Note that we have used `lambda`-functions to compactly define the functions returning the subdomain evaluation and function evaluation. We can use a similar procedure for the right boundary condition, and gather both boundary conditions in a vector `bcs`."
   ]
  },
  {
   "cell_type": "code",
   "execution_count": 3,
   "metadata": {},
   "outputs": [],
   "source": [
    "dofs_R = locate_dofs_geometrical(V, lambda x: np.isclose(x[0], 1))\n",
    "u_R = Function(V)\n",
    "u_R.interpolate(lambda x: 2 + 2*x[1]**2)\n",
    "bc_R = dirichletbc(u_R, dofs_R)\n",
    "bcs = [bc_R, bc_L]"
   ]
  },
  {
   "cell_type": "markdown",
   "metadata": {},
   "source": [
    "We are now ready to again solve the problem, and check the $L^2$ and max error at the mesh vertices."
   ]
  },
  {
   "cell_type": "code",
   "execution_count": 5,
   "metadata": {},
   "outputs": [
    {
     "name": "stdout",
     "output_type": "stream",
     "text": [
      "Error_L2 : 5.27e-03\n",
      "Error_max : 2.66e-15\n"
     ]
    }
   ],
   "source": [
    "problem = LinearProblem(a, L, bcs=bcs, petsc_options={\"ksp_type\": \"preonly\", \"pc_type\": \"lu\"})\n",
    "uh = problem.solve()\n",
    "\n",
    "V2 = FunctionSpace(mesh, (\"CG\", 2))\n",
    "uex = Function(V2)\n",
    "uex.interpolate(u_exact)\n",
    "error_L2 = assemble_scalar(form((uh - uex)**2 * dx))\n",
    "error_L2 = np.sqrt(MPI.COMM_WORLD.allreduce(error_L2, op=MPI.SUM))\n",
    "\n",
    "u_vertex_values = uh.x.array\n",
    "uex_1 = Function(V)\n",
    "uex_1.interpolate(uex)\n",
    "u_ex_vertex_values = uex_1.x.array\n",
    "error_max = np.max(np.abs(u_vertex_values - u_ex_vertex_values))\n",
    "error_max = MPI.COMM_WORLD.allreduce(error_max, op=MPI.MAX)\n",
    "print(f\"Error_L2 : {error_L2:.2e}\")\n",
    "print(f\"Error_max : {error_max:.2e}\")"
   ]
  },
  {
   "cell_type": "markdown",
   "metadata": {},
   "source": [
    "## Visualization\n",
    "To visualize the solution, run the script with in a Jupyter notebook with `off_screen=False` or as a python script with `off_screen=True`."
   ]
  },
  {
   "cell_type": "code",
   "execution_count": 6,
   "metadata": {},
   "outputs": [
    {
     "data": {
      "application/vnd.jupyter.widget-view+json": {
       "model_id": "b1fab92b06524705b51bce14d760a431",
       "version_major": 2,
       "version_minor": 0
      },
      "text/plain": [
       "Renderer(camera=PerspectiveCamera(aspect=1.3333333333333333, children=(DirectionalLight(color='#fefefe', inten…"
      ]
     },
     "metadata": {},
     "output_type": "display_data"
    }
   ],
   "source": [
    "import pyvista\n",
    "pyvista.set_jupyter_backend(\"pythreejs\")\n",
    "from dolfinx.plot import create_vtk_mesh\n",
    "pyvista_cells, cell_types, geometry = create_vtk_mesh(V)\n",
    "grid = pyvista.UnstructuredGrid(pyvista_cells, cell_types, geometry)\n",
    "grid.point_data[\"u\"] = uh.x.array\n",
    "grid.set_active_scalars(\"u\")\n",
    "\n",
    "plotter = pyvista.Plotter()\n",
    "plotter.add_text(\"uh\", position=\"upper_edge\", font_size=14, color=\"black\")\n",
    "plotter.add_mesh(grid, show_edges=True)\n",
    "plotter.view_xy()\n",
    "if not pyvista.OFF_SCREEN:\n",
    "    plotter.show()\n",
    "else:\n",
    "    pyvista.start_xvfb()\n",
    "    figure = plotter.screenshot(\"multiple_dirichlet.png\")"
   ]
  },
  {
   "cell_type": "code",
   "execution_count": null,
   "metadata": {},
   "outputs": [],
   "source": []
  }
 ],
 "metadata": {
  "kernelspec": {
   "display_name": "Python 3 (ipykernel)",
   "language": "python",
   "name": "python3"
  },
  "language_info": {
   "codemirror_mode": {
    "name": "ipython",
    "version": 3
   },
   "file_extension": ".py",
   "mimetype": "text/x-python",
   "name": "python",
   "nbconvert_exporter": "python",
   "pygments_lexer": "ipython3",
   "version": "3.9.7"
  }
 },
 "nbformat": 4,
 "nbformat_minor": 4
}
