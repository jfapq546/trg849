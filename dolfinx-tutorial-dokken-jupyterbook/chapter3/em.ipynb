{
 "cells": [
  {
   "cell_type": "markdown",
   "metadata": {},
   "source": [
    "# Electromagnetics example\n",
    "\n",
    "Theoretical introduction by: Hans Petter Langtangen and Anders Logg\n",
    "\n",
    "Implementation by: Jørgen S. Dokken\n",
    "\n",
    "In this example, we will consider an iron cylinder with copper wires wound around the cylinder, as shown below\n",
    "\n",
    "![Cross section of wires](wire.png)\n",
    "\n",
    "Through the copper wires a static current of $J=1A$ is flowing.\n",
    "We would like to compute the magnetic field $B$ in the iron cylinder, the copper wires, and the surrounding vaccum. \n",
    "\n",
    "We start by simplifying the problem to a 2D problem. We can do this by assuming that the cylinder extends far along the z-axis and as a consequence the field is virtually independent of the z-coordinate. \n",
    "Next, we consder Maxwell's equation to derive a Poisson equation for the magnetic field (or rather its potential)\n",
    "\n",
    "$$\n",
    "\\nabla \\cdot D = \\rho,\n",
    "$$\n",
    "$$\n",
    "\\nabla \\cdot B = 0,\n",
    "$$\n",
    "$$\n",
    "\\nabla \\times E = -\\frac{\\partial B}{\\partial t},\n",
    "$$\n",
    "$$\n",
    "\\nabla \\times H = \\frac{\\partial D}{\\partial t}+ J.\n",
    "$$\n",
    "\n",
    "Here, $D$ is the displacement field, $B$ is the magnetic field, $E$ is the electric field, and $H$ is the magnetizing field.\n",
    "In addition to Maxwell's equation, we need a constitutive relation between $B$ and $H$,\n",
    "\n",
    "$$\n",
    "B =\\mu H,\n",
    "$$\n",
    "\n",
    "which holds for an isotropic linear magnetic medium. \n",
    "Here, $\\mu$ is the magnetic permability of the material. \n",
    "Now, since $B$ is solenodial (divergence free) accoording to Maxwell's equations, we known that $B$ must be the curl of some vector field $A$. This field is called the magnetic vector potential. Since the problem is static and thus $\\frac{\\partial D}{\\partial t}=0$, it follows that\n",
    "\n",
    "$$\n",
    "J = \\nabla \\times H = \\nabla \\times(\\mu^{-1} B)=\\nabla \\times (\\mu^{-1}\\nabla \\times A ) = -\\nabla \\cdot (\\mu^{-1}\\nabla A).\n",
    "$$\n",
    "\n",
    "In the last step, we have expanded the second derivatives and used the gauge freedom of $A$ to simplify the equations to a simple vector-valued Poisson equation for the magnetic vector potential; if $B=\\nabla \\times A$, then $B=\\nabla \\times (A+\\nabla \\phi)$ for any scalar field $\\phi$ (the gauge function).\n",
    "For the current problem, we thus need to solve the following 2D Poisson problem for the $z$-component $A_z$ of the magnetic vector potential\n",
    "\n",
    "$$\n",
    "    - \\nabla \\cdot (\\mu^{-1} \\nabla A_z) = J_z \\qquad \\text{in } \\mathbb{R}^2,\\\\\n",
    "$$\n",
    "$$\n",
    "\\lim_{\\vert(x,y)\\vert\\to \\infty}A_z = 0.\n",
    "$$\n",
    "\n",
    "Since we cannot solve the problem on an infinite domain, we will truncate the domain using a large disk, and set $A_z=0$ on the boundary. The current $J_z$ is set to $+1$A in the interior set of the circles (copper-wire cross sections) and to $-1$ A in the exteriror set of circles in the cross section figure.\n",
    "Once the magnetic field vector potential has been computed, we can compute the magnetic field $B=B(x,y)$ by\n",
    "\n",
    "$$\n",
    "    B(x,y)=\\left(\\frac{\\partial A_z}{\\partial y}, - \\frac{\\partial A_z}{\\partial x} \\right).\n",
    "$$\n",
    "\n",
    "The weak formulation is easily obtained by multiplication of a test function $v$, followed by integration by parts, where all boundary integrals vanishes due to the Dirichlet condition, we obtain $a(A_z,v)=L(v)$ with\n",
    "\n",
    "$$\n",
    "a(A_z, v)=\\int_\\Omega \\mu^{-1}\\nabla A_z \\cdot \\nabla v ~\\mathrm{d}x,\n",
    "$$\n",
    "$$\n",
    "L(v)=\\int_\\Omega J_z v~\\mathrm{d} x.\n",
    "$$"
   ]
  },
  {
   "cell_type": "markdown",
   "metadata": {},
   "source": [
    "## Meshing a complex structure with subdomains\n",
    "\n",
    "We create the domain visualized in the cross section figure above using gmsh. Note that we are using the `gmsh.model.occ.fragment` commands to ensure that the boundaries of the wires are resolved in the mesh."
   ]
  },
  {
   "cell_type": "code",
   "execution_count": 1,
   "metadata": {},
   "outputs": [
    {
     "name": "stdout",
     "output_type": "stream",
     "text": [
      "Info    : Meshing 1D...\n",
      "Info    : [  0%] Meshing curve 1 (Ellipse)\n",
      "Info    : [ 10%] Meshing curve 2 (Ellipse)\n",
      "Info    : [ 20%] Meshing curve 3 (Ellipse)\n",
      "Info    : [ 20%] Meshing curve 4 (Ellipse)\n",
      "Info    : [ 30%] Meshing curve 5 (Ellipse)\n",
      "Info    : [ 30%] Meshing curve 6 (Ellipse)\n",
      "Info    : [ 40%] Meshing curve 7 (Ellipse)\n",
      "Info    : [ 40%] Meshing curve 8 (Circle)\n",
      "Info    : [ 50%] Meshing curve 9 (Ellipse)\n",
      "Info    : [ 50%] Meshing curve 10 (Ellipse)\n",
      "Info    : [ 60%] Meshing curve 11 (Circle)\n",
      "Info    : [ 60%] Meshing curve 12 (Ellipse)\n",
      "Info    : [ 70%] Meshing curve 13 (Ellipse)\n",
      "Info    : [ 70%] Meshing curve 14 (Ellipse)\n",
      "Info    : [ 80%] Meshing curve 15 (Ellipse)\n",
      "Info    : [ 80%] Meshing curve 16 (Ellipse)\n",
      "Info    : [ 90%] Meshing curve 17 (Ellipse)\n",
      "Info    : [ 90%] Meshing curve 18 (Ellipse)\n",
      "Info    : [100%] Meshing curve 19 (Ellipse)\n",
      "Info    : Done meshing 1D (Wall 0.0204444s, CPU 0.019641s)\n",
      "Info    : Meshing 2D...\n",
      "Info    : [  0%] Meshing surface 1 (Plane, Bamg)\n",
      "Info    : [  0%] BAMG succeeded 794 vertices 1316 triangles\n",
      "Info    : [ 10%] Meshing surface 3 (Plane, Bamg)\n",
      "Info    : [ 10%] BAMG succeeded 21 vertices 27 triangles\n",
      "Info    : [ 10%] BAMG succeeded 21 vertices 27 triangles\n",
      "Info    : [ 20%] Meshing surface 4 (Plane, Bamg)\n",
      "Info    : [ 20%] BAMG succeeded 22 vertices 29 triangles\n",
      "Info    : [ 20%] BAMG succeeded 22 vertices 29 triangles\n",
      "Info    : [ 20%] Meshing surface 5 (Plane, Bamg)\n",
      "Info    : [ 20%] BAMG succeeded 21 vertices 27 triangles\n",
      "Info    : [ 20%] BAMG succeeded 21 vertices 27 triangles\n",
      "Info    : [ 30%] Meshing surface 6 (Plane, Bamg)\n",
      "Info    : [ 30%] BAMG succeeded 21 vertices 27 triangles\n",
      "Info    : [ 30%] BAMG succeeded 21 vertices 27 triangles\n",
      "Info    : [ 30%] Meshing surface 7 (Plane, Bamg)\n",
      "Info    : [ 30%] BAMG succeeded 21 vertices 27 triangles\n",
      "Info    : [ 30%] BAMG succeeded 21 vertices 27 triangles\n",
      "Info    : [ 40%] Meshing surface 8 (Plane, Bamg)\n",
      "Info    : [ 40%] BAMG succeeded 22 vertices 29 triangles\n",
      "Info    : [ 40%] BAMG succeeded 22 vertices 29 triangles\n",
      "Info    : [ 40%] Meshing surface 9 (Plane, Bamg)\n",
      "Info    : [ 40%] BAMG succeeded 22 vertices 29 triangles\n",
      "Info    : [ 40%] BAMG succeeded 22 vertices 29 triangles\n",
      "Info    : [ 50%] Meshing surface 10 (Plane, Bamg)\n",
      "Info    : [ 50%] BAMG succeeded 22 vertices 29 triangles\n",
      "Info    : [ 50%] BAMG succeeded 22 vertices 29 triangles\n",
      "Info    : [ 50%] Meshing surface 11 (Plane, Bamg)\n",
      "Info    : [ 50%] BAMG succeeded 22 vertices 29 triangles\n",
      "Info    : [ 50%] BAMG succeeded 22 vertices 29 triangles\n",
      "Info    : [ 60%] Meshing surface 12 (Plane, Bamg)\n",
      "Info    : [ 60%] BAMG succeeded 22 vertices 29 triangles\n",
      "Info    : [ 60%] BAMG succeeded 22 vertices 29 triangles\n",
      "Info    : [ 60%] Meshing surface 13 (Plane, Bamg)\n",
      "Info    : [ 60%] BAMG succeeded 22 vertices 29 triangles\n",
      "Info    : [ 60%] BAMG succeeded 22 vertices 29 triangles\n",
      "Info    : [ 70%] Meshing surface 14 (Plane, Bamg)\n",
      "Info    : [ 70%] BAMG succeeded 22 vertices 29 triangles\n",
      "Info    : [ 70%] BAMG succeeded 22 vertices 29 triangles\n",
      "Info    : [ 70%] Meshing surface 15 (Plane, Bamg)\n",
      "Info    : [ 70%] BAMG succeeded 22 vertices 29 triangles\n",
      "Info    : [ 70%] BAMG succeeded 22 vertices 29 triangles\n",
      "Info    : [ 80%] Meshing surface 16 (Plane, Bamg)\n",
      "Info    : [ 80%] BAMG succeeded 22 vertices 29 triangles\n",
      "Info    : [ 80%] BAMG succeeded 22 vertices 29 triangles\n",
      "Info    : [ 80%] Meshing surface 17 (Plane, Bamg)\n",
      "Info    : [ 80%] BAMG succeeded 22 vertices 29 triangles\n",
      "Info    : [ 80%] BAMG succeeded 22 vertices 29 triangles\n",
      "Info    : [ 90%] Meshing surface 18 (Plane, Bamg)\n",
      "Info    : [ 90%] BAMG succeeded 22 vertices 29 triangles\n",
      "Info    : [ 90%] BAMG succeeded 22 vertices 29 triangles\n",
      "Info    : [ 90%] Meshing surface 19 (Plane, Bamg)\n",
      "Info    : [ 90%] BAMG succeeded 1811 vertices 3325 triangles\n",
      "Info    : [ 90%] BAMG succeeded 1812 vertices 3327 triangles\n",
      "Info    : [100%] Meshing surface 20 (Plane, Bamg)\n",
      "Info    : [100%] BAMG succeeded 1198 vertices 2180 triangles\n",
      "Info    : [100%] BAMG succeeded 1178 vertices 2140 triangles\n",
      "Info    : [100%] BAMG succeeded 1176 vertices 2136 triangles\n",
      "Info    : Done meshing 2D (Wall 2.25798s, CPU 1.53992s)\n",
      "Info    : 3650 nodes 7797 elements\n"
     ]
    }
   ],
   "source": [
    "import gmsh\n",
    "import numpy as np\n",
    "from mpi4py import MPI\n",
    "\n",
    "rank = MPI.COMM_WORLD.rank\n",
    "\n",
    "gmsh.initialize()\n",
    "r = 0.1   # Radius of copper wires\n",
    "R = 5     # Radius of domain\n",
    "a = 1     # Radius of inner iron cylinder\n",
    "b = 1.2   # Radius of outer iron cylinder\n",
    "N = 8     # Number of windings\n",
    "c_1 = 0.8 # Radius of inner copper wires\n",
    "c_2 = 1.4 # Radius of outer copper wires\n",
    "gdim = 2  # Geometric dimension of the mesh\n",
    "if rank == 0:\n",
    "\n",
    "    # Define geometry for iron cylinder\n",
    "    outer_iron = gmsh.model.occ.addCircle(0, 0, 0, b)\n",
    "    inner_iron = gmsh.model.occ.addCircle(0, 0, 0, a)\n",
    "    gmsh.model.occ.addCurveLoop([outer_iron], 5)\n",
    "    gmsh.model.occ.addCurveLoop([inner_iron], 6)\n",
    "    iron = gmsh.model.occ.addPlaneSurface([5, 6])\n",
    "    gmsh.model.occ.synchronize()\n",
    "\n",
    "    # Define geometry for background\n",
    "    background = gmsh.model.occ.addDisk(0, 0, 0, R, R)\n",
    "    gmsh.model.occ.synchronize()\n",
    "\n",
    "    # Define the copper-wires inside iron cylinder\n",
    "    angles_N = [i*2*np.pi/N for i in range(N)]\n",
    "    wires_N = [(2, gmsh.model.occ.addDisk(c_1*np.cos(v), c_1*np.sin(v), 0, r, r)) for v in angles_N]\n",
    "\n",
    "    # Define the copper-wires outside the iron cylinder\n",
    "    angles_S = [(i+0.5)*2*np.pi/N for i in range(N)]\n",
    "    wires_S = [(2, gmsh.model.occ.addDisk(c_2*np.cos(v), c_2*np.sin(v), 0, r, r)) for v in angles_S]\n",
    "    gmsh.model.occ.synchronize()\n",
    "    # Resolve all boundaries of the different wires in the background domain\n",
    "    all_surfaces = [(2, iron)]\n",
    "    all_surfaces.extend(wires_S)\n",
    "    all_surfaces.extend(wires_N)\n",
    "    whole_domain = gmsh.model.occ.fragment([(2, background)], all_surfaces)\n",
    "    gmsh.model.occ.synchronize()\n",
    "    # Create physical markers for the different wires.\n",
    "    # We use the following markers:\n",
    "    # - Vacuum: 0\n",
    "    # - Iron cylinder: 1\n",
    "    # - Inner copper wires: $[2,3,\\dots,N+1]$\n",
    "    # - Outer copper wires: $[N+2,\\dots, 2\\cdot N+1]\n",
    "    inner_tag = 2\n",
    "    outer_tag = 2 + N\n",
    "    background_surfaces = []\n",
    "    other_surfaces = []\n",
    "    for domain in whole_domain[0]:\n",
    "        com = gmsh.model.occ.getCenterOfMass(domain[0], domain[1])\n",
    "        mass = gmsh.model.occ.getMass(domain[0], domain[1])\n",
    "        # Identify iron circle by its mass\n",
    "        if np.isclose(mass, np.pi*(b**2-a**2)):\n",
    "            gmsh.model.addPhysicalGroup(domain[0], [domain[1]], tag=1)\n",
    "            other_surfaces.append(domain)\n",
    "        # Identify the background circle by its center of mass\n",
    "        elif np.allclose(com, [0, 0, 0]):\n",
    "            background_surfaces.append(domain[1])\n",
    "\n",
    "        # Identify the inner circles by their center of mass\n",
    "        elif np.isclose(np.linalg.norm(com), c_1):\n",
    "            gmsh.model.addPhysicalGroup(domain[0], [domain[1]], inner_tag)\n",
    "            inner_tag +=1\n",
    "            other_surfaces.append(domain)\n",
    "        # Identify the outer circles by their center of mass\n",
    "        elif np.isclose(np.linalg.norm(com), c_2):\n",
    "            gmsh.model.addPhysicalGroup(domain[0], [domain[1]], outer_tag)\n",
    "            outer_tag +=1\n",
    "            other_surfaces.append(domain)\n",
    "    # Add marker for the vacuum\n",
    "    gmsh.model.addPhysicalGroup(2, background_surfaces, tag=0)\n",
    "    # Create mesh resolution that is fine around the wires and\n",
    "    # iron cylinder, coarser the further away you get\n",
    "    gmsh.model.mesh.field.add(\"Distance\", 1)\n",
    "    edges = gmsh.model.getBoundary(other_surfaces, oriented=False)\n",
    "    gmsh.model.mesh.field.setNumbers(1, \"EdgesList\", [e[1] for e in edges])\n",
    "    gmsh.model.mesh.field.add(\"Threshold\", 2)\n",
    "    gmsh.model.mesh.field.setNumber(2, \"IField\", 1)\n",
    "    gmsh.model.mesh.field.setNumber(2, \"LcMin\", r / 2)\n",
    "    gmsh.model.mesh.field.setNumber(2, \"LcMax\", 5 * r)\n",
    "    gmsh.model.mesh.field.setNumber(2, \"DistMin\", 2 * r)\n",
    "    gmsh.model.mesh.field.setNumber(2, \"DistMax\", 4 * r)\n",
    "    gmsh.model.mesh.field.setAsBackgroundMesh(2)\n",
    "    # Generate mesh\n",
    "    gmsh.option.setNumber(\"Mesh.Algorithm\", 7)\n",
    "    gmsh.model.mesh.generate(gdim)    "
   ]
  },
  {
   "cell_type": "markdown",
   "metadata": {},
   "source": [
    "As in [the Navier-Stokes tutorial](../chapter2/ns_code2) we load the mesh directly into DOLFINx, without writing it to file. This time, we create `MeshTags` for the physical cell data."
   ]
  },
  {
   "cell_type": "code",
   "execution_count": 2,
   "metadata": {},
   "outputs": [],
   "source": [
    "from dolfinx.io import extract_gmsh_geometry, extract_gmsh_topology_and_markers, ufl_mesh_from_gmsh\n",
    "from dolfinx.io import cell_perm_gmsh, distribute_entity_data\n",
    "from dolfinx.cpp.mesh import to_type\n",
    "from dolfinx.graph import create_adjacencylist\n",
    "from dolfinx.mesh import create_meshtags, create_mesh\n",
    "if rank == 0:\n",
    "    # Get mesh geometry\n",
    "    x = extract_gmsh_geometry(gmsh.model)\n",
    "\n",
    "    # Get mesh topology for each element\n",
    "    topologies = extract_gmsh_topology_and_markers(gmsh.model)\n",
    "    # Get information about each cell type from the msh files\n",
    "    num_cell_types = len(topologies.keys())\n",
    "    cell_information = {}\n",
    "    cell_dimensions = np.zeros(num_cell_types, dtype=np.int32)\n",
    "    for i, element in enumerate(topologies.keys()):\n",
    "        properties = gmsh.model.mesh.getElementProperties(element)\n",
    "        name, dim, order, num_nodes, local_coords, _ = properties\n",
    "        cell_information[i] = {\"id\": element, \"dim\": dim, \"num_nodes\": num_nodes}\n",
    "        cell_dimensions[i] = dim\n",
    "\n",
    "    # Sort elements by ascending dimension\n",
    "    perm_sort = np.argsort(cell_dimensions)\n",
    "\n",
    "    # Broadcast cell type data and geometric dimension\n",
    "    cell_id = cell_information[perm_sort[-1]][\"id\"]\n",
    "    tdim = cell_information[perm_sort[-1]][\"dim\"]\n",
    "    num_nodes = cell_information[perm_sort[-1]][\"num_nodes\"]\n",
    "    cell_id, num_nodes = MPI.COMM_WORLD.bcast([cell_id, num_nodes], root=0)\n",
    "\n",
    "    cells = np.asarray(topologies[cell_id][\"topology\"], dtype=np.int64)\n",
    "    cell_values = np.asarray(topologies[cell_id][\"cell_data\"], dtype=np.int32)\n",
    "else:\n",
    "    cell_id, num_nodes = MPI.COMM_WORLD.bcast([None, None], root=0)\n",
    "    cells, x = np.empty([0, num_nodes], dtype=np.int64), np.empty([0, gdim])\n",
    "    cell_values = np.empty((0,), dtype=np.int32)\n",
    "gmsh.finalize()"
   ]
  },
  {
   "cell_type": "markdown",
   "metadata": {},
   "source": [
    "We now distribute the mesh over multiple processors"
   ]
  },
  {
   "cell_type": "code",
   "execution_count": 3,
   "metadata": {},
   "outputs": [],
   "source": [
    "# Create distributed mesh\n",
    "ufl_domain = ufl_mesh_from_gmsh(cell_id, gdim)\n",
    "gmsh_cell_perm = cell_perm_gmsh(to_type(str(ufl_domain.ufl_cell())), num_nodes)\n",
    "cells = cells[:, gmsh_cell_perm]\n",
    "mesh = create_mesh(MPI.COMM_WORLD, cells, x[:, :gdim], ufl_domain)\n",
    "tdim = mesh.topology.dim\n",
    "\n",
    "local_entities, local_values = distribute_entity_data(mesh, tdim, cells, cell_values)\n",
    "mesh.topology.create_connectivity(tdim, 0)\n",
    "adj = create_adjacencylist(local_entities)\n",
    "ct = create_meshtags(mesh, tdim, adj, np.int32(local_values))"
   ]
  },
  {
   "cell_type": "markdown",
   "metadata": {},
   "source": [
    "To inspect the mesh, we use Paraview, and obtain the following mesh"
   ]
  },
  {
   "cell_type": "code",
   "execution_count": 4,
   "metadata": {},
   "outputs": [],
   "source": [
    "from dolfinx.io import XDMFFile\n",
    "with XDMFFile(MPI.COMM_WORLD, \"mt.xdmf\", \"w\") as xdmf:\n",
    "    xdmf.write_mesh(mesh)\n",
    "    xdmf.write_meshtags(ct)"
   ]
  },
  {
   "cell_type": "markdown",
   "metadata": {},
   "source": [
    "We can also visualize the subdommains using pyvista"
   ]
  },
  {
   "cell_type": "code",
   "execution_count": 7,
   "metadata": {},
   "outputs": [
    {
     "data": {
      "application/vnd.jupyter.widget-view+json": {
       "model_id": "990232533b8843fdaae230f20f34f9de",
       "version_major": 2,
       "version_minor": 0
      },
      "text/plain": [
       "Renderer(camera=PerspectiveCamera(aspect=1.3333333333333333, children=(DirectionalLight(color='#fefefe', inten…"
      ]
     },
     "metadata": {},
     "output_type": "display_data"
    }
   ],
   "source": [
    "import pyvista\n",
    "pyvista.set_jupyter_backend(\"pythreejs\")\n",
    "from dolfinx.plot import create_vtk_mesh\n",
    "\n",
    "plotter = pyvista.Plotter()\n",
    "grid = pyvista.UnstructuredGrid(*create_vtk_mesh(mesh, mesh.topology.dim))\n",
    "num_local_cells = mesh.topology.index_map(mesh.topology.dim).size_local\n",
    "grid.cell_data[\"Marker\"] = ct.values[ct.indices<num_local_cells]\n",
    "grid.set_active_scalars(\"Marker\")\n",
    "actor = plotter.add_mesh(grid, show_edges=True)\n",
    "plotter.view_xy()\n",
    "if not pyvista.OFF_SCREEN:\n",
    "    plotter.show()\n",
    "else:\n",
    "    pyvista.start_xvfb()\n",
    "    cell_tag_fig = plotter.screenshot(\"cell_tags.png\")"
   ]
  },
  {
   "cell_type": "markdown",
   "metadata": {},
   "source": [
    "Next, we define the discontinous functions for the permability $\\mu$ and current $J_z$ using the `MeshTags` as in [Defining material parameters through subdomains](./subdomains)"
   ]
  },
  {
   "cell_type": "code",
   "execution_count": 8,
   "metadata": {},
   "outputs": [],
   "source": [
    "from dolfinx.fem import (dirichletbc, Expression, Function, FunctionSpace, LinearProblem, VectorFunctionSpace,\n",
    "                         locate_dofs_topological)\n",
    "from dolfinx.mesh import locate_entities_boundary\n",
    "from ufl import TestFunction, TrialFunction, as_vector, dot, dx, grad, inner\n",
    "from petsc4py.PETSc import ScalarType\n",
    "\n",
    "Q = FunctionSpace(mesh, (\"DG\", 0))\n",
    "material_tags = np.unique(ct.values)\n",
    "mu = Function(Q)\n",
    "J = Function(Q)\n",
    "# As we only set some values in J, initialize all as 0\n",
    "J.x.array[:] = 0\n",
    "for tag in material_tags:\n",
    "    cells = ct.indices[ct.values==tag]\n",
    "    num_cells = len(cells)\n",
    "    # Set values for mu\n",
    "    if tag == 0:\n",
    "        mu_ = 4 * np.pi*1e-7 # Vacuum\n",
    "    elif tag == 1:\n",
    "        mu_ = 1e-5 # Iron (This should really be 6.3e-3)\n",
    "    else:\n",
    "        mu_ = 1.26e-6 # Copper\n",
    "    mu.x.array[cells] = np.full(num_cells, mu_)\n",
    "    if tag in range(2, 2+N):\n",
    "        J.x.array[cells] = np.full(num_cells, 1)\n",
    "    elif tag in range(2+N, 2*N + 2):\n",
    "        J.x.array[cells] = np.full(num_cells, -1)"
   ]
  },
  {
   "cell_type": "markdown",
   "metadata": {},
   "source": [
    "In the code above, we have used a somewhat less extreme value for the magnetic permability of iron. This is to make the solution a little more interesting. It would otherwise be completely dominated by the field in the iron cylinder.\n",
    "\n",
    "We can now define the weak problem"
   ]
  },
  {
   "cell_type": "code",
   "execution_count": 9,
   "metadata": {},
   "outputs": [],
   "source": [
    "V = FunctionSpace(mesh, (\"CG\", 1))\n",
    "facets = locate_entities_boundary(mesh, tdim-1, lambda x: np.full(x.shape[1], True))\n",
    "dofs = locate_dofs_topological(V, tdim-1, facets)\n",
    "bc = dirichletbc(ScalarType(0), dofs, V)\n",
    "\n",
    "u = TrialFunction(V)\n",
    "v = TestFunction(V)\n",
    "a = (1 / mu) * dot(grad(u), grad(v)) * dx\n",
    "L = J * v * dx"
   ]
  },
  {
   "cell_type": "markdown",
   "metadata": {},
   "source": [
    "We are now ready to solve the linear problem"
   ]
  },
  {
   "cell_type": "code",
   "execution_count": 10,
   "metadata": {},
   "outputs": [
    {
     "data": {
      "text/plain": [
       "Coefficient(FunctionSpace(Mesh(VectorElement(FiniteElement('Lagrange', triangle, 1, variant='equispaced'), dim=2, variant='equispaced'), 0), FiniteElement('Lagrange', triangle, 1)), 6)"
      ]
     },
     "execution_count": 10,
     "metadata": {},
     "output_type": "execute_result"
    }
   ],
   "source": [
    "A_z = Function(V)\n",
    "problem = LinearProblem(a, L, u=A_z, bcs=[bc])\n",
    "problem.solve()"
   ]
  },
  {
   "cell_type": "markdown",
   "metadata": {},
   "source": [
    "As we have computed the magnetic potential, we can now compute the magnetic field, by setting `B=curl(A_z)`. Note that as we have chosen a function space of first order piecewise linear function to describe our potential, the curl of a function in this space is a discontinous zeroth order function (a function of cell-wise constants). We use `dolfinx.fem.Expression` to interpolate the curl into `W`."
   ]
  },
  {
   "cell_type": "code",
   "execution_count": 11,
   "metadata": {},
   "outputs": [],
   "source": [
    "W = VectorFunctionSpace(mesh, (\"DG\", 0))\n",
    "B = Function(W)\n",
    "B_expr = Expression(as_vector((A_z.dx(1), -A_z.dx(0))), W.element.interpolation_points)\n",
    "B.interpolate(B_expr)"
   ]
  },
  {
   "cell_type": "markdown",
   "metadata": {},
   "source": [
    "Note that we used `ufl.as_vector` to interpret the `Python`-tuple `(A_z.dx(1), -A_z.dx(0))` as a vector in the unified form language (UFL).\n",
    "\n",
    "We now plot the magnetic potential $A_z$ and the magnetic field $B$. We start by creating a new plotter"
   ]
  },
  {
   "cell_type": "code",
   "execution_count": 15,
   "metadata": {},
   "outputs": [
    {
     "data": {
      "application/vnd.jupyter.widget-view+json": {
       "model_id": "07aa45a585f04cf89768464bf3121458",
       "version_major": 2,
       "version_minor": 0
      },
      "text/plain": [
       "Renderer(camera=PerspectiveCamera(aspect=1.3333333333333333, children=(DirectionalLight(color='#fefefe', inten…"
      ]
     },
     "metadata": {},
     "output_type": "display_data"
    }
   ],
   "source": [
    "plotter = pyvista.Plotter()\n",
    "\n",
    "Az_grid = pyvista.UnstructuredGrid(*create_vtk_mesh(V))\n",
    "Az_grid.point_data[\"A_z\"] = A_z.x.array\n",
    "Az_grid.set_active_scalars(\"A_z\")\n",
    "warp = Az_grid.warp_by_scalar(\"A_z\", factor=1e7)\n",
    "actor = plotter.add_mesh(warp, show_edges=True)\n",
    "if not pyvista.OFF_SCREEN:\n",
    "    plotter.show()\n",
    "else:\n",
    "    pyvista.start_xvfb()\n",
    "    Az_fig = plotter.screenshot(\"Az.png\")"
   ]
  },
  {
   "cell_type": "markdown",
   "metadata": {},
   "source": [
    "## Visualizing the magnetic field\n",
    "As the magnetic field is a piecewise constant vector field, we need create a custom plotting function.\n",
    "We start by computing the midpoints of each cell, which is where we would like to visualize the cell-wise constant vector.\n",
    "Next, we take the data from the function `B`, and  shape it to become a 3D vector.\n",
    "We connect the vector field with the midpoint by using `pyvista.PolyData`."
   ]
  },
  {
   "cell_type": "code",
   "execution_count": 16,
   "metadata": {},
   "outputs": [
    {
     "data": {
      "application/vnd.jupyter.widget-view+json": {
       "model_id": "ce111507c35e49f3a987e92a6560868b",
       "version_major": 2,
       "version_minor": 0
      },
      "text/plain": [
       "Renderer(camera=PerspectiveCamera(aspect=1.3333333333333333, children=(DirectionalLight(color='#fefefe', inten…"
      ]
     },
     "metadata": {},
     "output_type": "display_data"
    }
   ],
   "source": [
    "from dolfinx.mesh import compute_midpoints\n",
    "plotter = pyvista.Plotter()\n",
    "plotter.set_position([0,0,5])\n",
    "\n",
    "# We include ghosts cells as we access all degrees of freedom (including ghosts) on each process\n",
    "top_imap = mesh.topology.index_map(mesh.topology.dim)\n",
    "num_cells = top_imap.size_local + top_imap.num_ghosts\n",
    "midpoints = compute_midpoints(mesh, mesh.topology.dim, range(num_cells))\n",
    "\n",
    "num_dofs = W.dofmap.index_map.size_local +  W.dofmap.index_map.num_ghosts\n",
    "assert(num_cells == num_dofs)\n",
    "values = np.zeros((num_dofs, 3), dtype=np.float64)\n",
    "values[:, :mesh.geometry.dim] = B.x.array.real.reshape(num_dofs, W.dofmap.index_map_bs)\n",
    "cloud = pyvista.PolyData(midpoints)\n",
    "cloud[\"B\"] = values\n",
    "glyphs = cloud.glyph(\"B\", factor=2e6)\n",
    "actor = plotter.add_mesh(grid, style=\"wireframe\", color=\"k\")\n",
    "actor2 = plotter.add_mesh(glyphs)\n",
    "\n",
    "if not pyvista.OFF_SCREEN:\n",
    "    plotter.show()\n",
    "else:\n",
    "    pyvista.start_xvfb()\n",
    "    B_fig = plotter.screenshot(\"B.png\")"
   ]
  },
  {
   "cell_type": "code",
   "execution_count": null,
   "metadata": {},
   "outputs": [],
   "source": []
  }
 ],
 "metadata": {
  "kernelspec": {
   "display_name": "Python 3 (ipykernel)",
   "language": "python",
   "name": "python3"
  },
  "language_info": {
   "codemirror_mode": {
    "name": "ipython",
    "version": 3
   },
   "file_extension": ".py",
   "mimetype": "text/x-python",
   "name": "python",
   "nbconvert_exporter": "python",
   "pygments_lexer": "ipython3",
   "version": "3.9.7"
  }
 },
 "nbformat": 4,
 "nbformat_minor": 4
}
